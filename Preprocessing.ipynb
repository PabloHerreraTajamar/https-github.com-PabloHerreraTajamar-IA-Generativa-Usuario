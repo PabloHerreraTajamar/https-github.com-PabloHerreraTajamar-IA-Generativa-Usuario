{
 "cells": [
  {
   "cell_type": "markdown",
   "metadata": {
    "application/vnd.databricks.v1+cell": {
     "cellMetadata": {},
     "inputWidgets": {},
     "nuid": "9b8f07d1-1be3-4881-b3cc-3acf3a43304b",
     "showTitle": false,
     "tableResultSettingsMap": {},
     "title": ""
    }
   },
   "source": [
    "# Data Preprocessing and Cleaning\n",
    "\n",
    "Data cleaning is an essential step in the process of preparing data for further processing and serving into a large language model. Without data cleaning, the language model would be limited in its ability to interpret and process the data accurately. Data cleaning helps to ensure that the data is in a consistent format, free of any inconsistencies or errors that could lead to incorrect results. It also helps to reduce the amount of time needed to process the data, as it eliminates the need to manually check for any inconsistencies or errors. Additionally, data cleaning can help to improve the accuracy of the language model by removing any irrelevant or incorrect data. By taking the time to properly clean the data, the language model can more accurately interpret and process the data, leading to better results.\n",
    "\n",
    "> 📍 Fill out the missing pieces in the source source to get everything working (indicated by `#FIXME`)."
   ]
  },
  {
   "cell_type": "markdown",
   "metadata": {
    "application/vnd.databricks.v1+cell": {
     "cellMetadata": {},
     "inputWidgets": {},
     "nuid": "27bc84ef-d9cf-443e-b402-f328ce6d2e49",
     "showTitle": false,
     "tableResultSettingsMap": {},
     "title": ""
    }
   },
   "source": [
    "## Count tokens\n",
    "\n",
    "> **Important note**\n",
    ">\n",
    "> *You do not need to manually tokenize strings before feeding texts into the model. This will be done automatically once you put instructions into the `prompt` parameter. However, you can use the `tiktoken` library to check how a string is tokenized and count the numbers of tokens to calculate the cost of an API call. Learn more [here](https://platform.openai.com/docs/introduction/tokens).*\n",
    "\n",
    "Tokenizing text strings is an important step in natural language processing (NLP) as it helps models like GPT-3 understand the structure of a text string. Tokenizing breaks a text string into smaller pieces called tokens, which can then be analyzed and used by the model. By understanding the structure of a text string, models can better understand the meaning of the text. Additionally, tokenizing helps to determine the cost of an Azure OpenAI Service API call, as usage is priced by token. Furthermore, different models use different encodings, so it is important to tokenize text strings in the appropriate format.\n",
    "\n",
    "`tiktoken` supports three encodings used by Azure OpenAI Service models:\n",
    "\n",
    "| Encoding name | Azure OpenAI Service models |\n",
    "| ------------- | -------------- |\n",
    "| gpt2 (or r50k_base) | Most GPT-3 models |\n",
    "| p50k_base | Code models, text-davinci-002, text-davinci-003 |\n",
    "| cl100k_base | text-embedding-ada-002 |\n",
    "\n",
    "Tokens in English typically range from one character to one word (e.g. \"t\" or \"great\"), though some languages may have tokens that are shorter or longer than one character or word. Spaces are usually placed at the beginning of words (e.g. \" is\" instead of \"is \" or \"+\"is\"). You can use the Tokenizer to quickly check how a string is tokenized."
   ]
  },
  {
   "cell_type": "markdown",
   "metadata": {
    "application/vnd.databricks.v1+cell": {
     "cellMetadata": {},
     "inputWidgets": {},
     "nuid": "28759b74-11f8-4e0a-9d79-7ec3d2da8e82",
     "showTitle": false,
     "tableResultSettingsMap": {},
     "title": ""
    }
   },
   "source": [
    "To show it briefly, we will use `tiktoken` to tokenize a text string and see how the output looks like."
   ]
  },
  {
   "cell_type": "code",
   "execution_count": 0,
   "metadata": {
    "application/vnd.databricks.v1+cell": {
     "cellMetadata": {
      "byteLimit": 2048000,
      "rowLimit": 10000
     },
     "inputWidgets": {},
     "nuid": "5adc0245-08fd-4a49-b248-4cd1399e3735",
     "showTitle": false,
     "tableResultSettingsMap": {},
     "title": ""
    }
   },
   "outputs": [
    {
     "output_type": "stream",
     "name": "stdout",
     "output_type": "stream",
     "text": [
      "\u001B[43mNote: you may need to restart the kernel using dbutils.library.restartPython() to use updated packages.\u001B[0m\nCollecting tiktoken\n  Downloading tiktoken-0.8.0-cp310-cp310-manylinux_2_17_x86_64.manylinux2014_x86_64.whl (1.2 MB)\n     ━━━━━━━━━━━━━━━━━━━━━━━━━━━━━━━━━━━━━━━━ 1.2/1.2 MB 7.9 MB/s eta 0:00:00\nCollecting regex>=2022.1.18\n  Downloading regex-2024.11.6-cp310-cp310-manylinux_2_17_x86_64.manylinux2014_x86_64.whl (781 kB)\n     ━━━━━━━━━━━━━━━━━━━━━━━━━━━━━━━━━━━━━━ 781.7/781.7 kB 13.7 MB/s eta 0:00:00\nRequirement already satisfied: requests>=2.26.0 in /databricks/python3/lib/python3.10/site-packages (from tiktoken) (2.28.1)\nRequirement already satisfied: certifi>=2017.4.17 in /databricks/python3/lib/python3.10/site-packages (from requests>=2.26.0->tiktoken) (2022.9.14)\nRequirement already satisfied: idna<4,>=2.5 in /databricks/python3/lib/python3.10/site-packages (from requests>=2.26.0->tiktoken) (3.3)\nRequirement already satisfied: charset-normalizer<3,>=2 in /databricks/python3/lib/python3.10/site-packages (from requests>=2.26.0->tiktoken) (2.0.4)\nRequirement already satisfied: urllib3<1.27,>=1.21.1 in /databricks/python3/lib/python3.10/site-packages (from requests>=2.26.0->tiktoken) (1.26.11)\nInstalling collected packages: regex, tiktoken\nSuccessfully installed regex-2024.11.6 tiktoken-0.8.0\n\u001B[43mNote: you may need to restart the kernel using dbutils.library.restartPython() to use updated packages.\u001B[0m\n"
     ]
    }
   ],
   "source": [
    "pip install tiktoken"
   ]
  },
  {
   "cell_type": "code",
   "execution_count": 0,
   "metadata": {
    "application/vnd.databricks.v1+cell": {
     "cellMetadata": {
      "byteLimit": 2048000,
      "rowLimit": 10000
     },
     "inputWidgets": {},
     "nuid": "00620183-8635-4542-9746-4f972d56b56f",
     "showTitle": false,
     "tableResultSettingsMap": {},
     "title": ""
    }
   },
   "outputs": [
    {
     "output_type": "execute_result",
     "data": {
      "text/plain": [
       "[15496, 995, 11, 428, 318, 1257, 0]"
      ]
     },
     "execution_count": 3,
     "metadata": {},
     "output_type": "execute_result"
    }
   ],
   "source": [
    "import tiktoken\n",
    "\n",
    "encoding = tiktoken.get_encoding(\"p50k_base\")\n",
    "encoding.encode(\"Hello world, this is fun!\")"
   ]
  },
  {
   "cell_type": "markdown",
   "metadata": {
    "application/vnd.databricks.v1+cell": {
     "cellMetadata": {},
     "inputWidgets": {},
     "nuid": "63815410-b2e3-4254-8dfa-df696640ceb3",
     "showTitle": false,
     "tableResultSettingsMap": {},
     "title": ""
    }
   },
   "source": [
    "Write a script that shows the string tokens from an input phrase."
   ]
  },
  {
   "cell_type": "code",
   "execution_count": 0,
   "metadata": {
    "application/vnd.databricks.v1+cell": {
     "cellMetadata": {
      "byteLimit": 2048000,
      "rowLimit": 10000
     },
     "inputWidgets": {},
     "nuid": "e4b0e90a-6a1b-4082-a4c7-67c27475be73",
     "showTitle": false,
     "tableResultSettingsMap": {},
     "title": ""
    }
   },
   "outputs": [
    {
     "output_type": "display_data",
     "data": {
      "text/plain": [
       "Introduce una frase para tokenizar:  FIXME"
      ]
     },
     "metadata": {},
     "output_type": "display_data"
    },
    {
     "output_type": "stream",
     "name": "stdout",
     "output_type": "stream",
     "text": [
      "\nTokens:\n1. ID del Token: 47084, Cadena del Token: 'FIX'\n2. ID del Token: 11682, Cadena del Token: 'ME'\n"
     ]
    }
   ],
   "source": [
    "#FIXME\n",
    "import tiktoken\n",
    "\n",
    "# Inicializar la codificación (asegúrate de usar el nombre correcto del modelo)\n",
    "encoding = tiktoken.get_encoding(\"p50k_base\")\n",
    "\n",
    "# Solicitar una frase de entrada\n",
    "input_phrase = input(\"Introduce una frase para tokenizar: \")\n",
    "\n",
    "# Codificar la frase en tokens\n",
    "tokens = encoding.encode(input_phrase)\n",
    "\n",
    "# Decodificar los tokens a cadenas para mostrarlos\n",
    "token_strings = [encoding.decode([token]) for token in tokens]\n",
    "\n",
    "# Mostrar los tokens\n",
    "print(\"\\nTokens:\")\n",
    "for i, (token, token_str) in enumerate(zip(tokens, token_strings)):\n",
    "    print(f\"{i + 1}. ID del Token: {token}, Cadena del Token: '{token_str}'\")\n"
   ]
  },
  {
   "cell_type": "markdown",
   "metadata": {
    "application/vnd.databricks.v1+cell": {
     "cellMetadata": {},
     "inputWidgets": {},
     "nuid": "c060379b-88ed-4990-9a02-cd9763c5d3ed",
     "showTitle": false,
     "tableResultSettingsMap": {},
     "title": ""
    }
   },
   "source": [
    "Let's write a function to count the number of tokens in a text string."
   ]
  },
  {
   "cell_type": "code",
   "execution_count": 0,
   "metadata": {
    "application/vnd.databricks.v1+cell": {
     "cellMetadata": {
      "byteLimit": 2048000,
      "rowLimit": 10000
     },
     "inputWidgets": {},
     "nuid": "ff4de40f-f43f-47e1-8f6a-c11812f60130",
     "showTitle": false,
     "tableResultSettingsMap": {},
     "title": ""
    }
   },
   "outputs": [
    {
     "output_type": "stream",
     "name": "stdout",
     "output_type": "stream",
     "text": [
      "Número total de tokens en la frase 'Hello World, this is fun!': 7\n"
     ]
    }
   ],
   "source": [
    "import tiktoken\n",
    "\n",
    "def get_num_tokens_from_string(string: str, encoding_name: str='p50k_base') -> int:\n",
    "    \"\"\"\n",
    "    Count the number of tokens in a given text string using the specified encoding.\n",
    "\n",
    "    Args:\n",
    "        string (str): The input text string.\n",
    "        encoding_name (str): The name of the encoding model. Default is 'p50k_base'.\n",
    "\n",
    "    Returns:\n",
    "        int: The number of tokens in the input string.\n",
    "    \"\"\"\n",
    "    encoding = tiktoken.get_encoding(encoding_name)\n",
    "    tokens = encoding.encode(string)\n",
    "    return len(tokens)\n",
    "\n",
    "# Contar el número de tokens en una frase específica\n",
    "phrase = \"Hello World, this is fun!\"\n",
    "token_count = get_num_tokens_from_string(phrase)\n",
    "print(f\"Número total de tokens en la frase '{phrase}': {token_count}\")"
   ]
  },
  {
   "cell_type": "markdown",
   "metadata": {
    "application/vnd.databricks.v1+cell": {
     "cellMetadata": {},
     "inputWidgets": {},
     "nuid": "17de2363-5e2d-4b5e-a34e-14e89086f97a",
     "showTitle": false,
     "tableResultSettingsMap": {},
     "title": ""
    }
   },
   "source": [
    "## Clean data"
   ]
  },
  {
   "cell_type": "markdown",
   "metadata": {
    "application/vnd.databricks.v1+cell": {
     "cellMetadata": {},
     "inputWidgets": {},
     "nuid": "10edb0ac-d57d-420f-a5c3-96cb5afa8aa2",
     "showTitle": false,
     "tableResultSettingsMap": {},
     "title": ""
    }
   },
   "source": [
    "Next we'll perform some light data cleaning by removing redundant whitespace and cleaning up the punctuation to prepare the data for tokenization. Again, tokenization is not required for the model to work, but it is a good practice to do so to ensure that the data is in a consistent format and that the model is able to process the data correctly. Also, it makes sure that the request is not too long for the model as the maximum number of tokens for davinci is 2048, e.g., equivalent to around 2-3 pages of text.\n",
    "\n",
    "> **Best Practices**\n",
    "> - **Replace newlines with a single space**: Unless you're embedding code, we suggest replacing newlines (\\n) in your input with a single space, as we have observed inferior results when newlines are present."
   ]
  },
  {
   "cell_type": "code",
   "execution_count": 0,
   "metadata": {
    "application/vnd.databricks.v1+cell": {
     "cellMetadata": {
      "byteLimit": 2048000,
      "rowLimit": 10000
     },
     "inputWidgets": {},
     "nuid": "0f5e254b-31fd-451c-b6ce-d3b6a6cf04dc",
     "showTitle": false,
     "tableResultSettingsMap": {},
     "title": ""
    }
   },
   "outputs": [],
   "source": [
    "import re\n",
    "\n",
    "def normalize_text(string, sep_token = \" \\n \"):\n",
    "    \"\"\"Normalize text by removing unnecessary characters and altering the format of words.\"\"\"\n",
    "    # make text lowercase\n",
    "    string = re.sub(r'\\s+',  ' ', string).strip()\n",
    "    string = re.sub(r\". ,\",\"\",string)\n",
    "    # remove all instances of multiple spaces\n",
    "    string = string.replace(\"..\",\".\")\n",
    "    string = string.replace(\". .\",\".\")\n",
    "    string = string.replace(\"\\n\", \"\")\n",
    "    string = string.strip()\n",
    "    return string"
   ]
  },
  {
   "cell_type": "markdown",
   "metadata": {
    "application/vnd.databricks.v1+cell": {
     "cellMetadata": {},
     "inputWidgets": {},
     "nuid": "5be23ebc-1a46-415e-aaa1-a4a76880b56e",
     "showTitle": false,
     "tableResultSettingsMap": {},
     "title": ""
    }
   },
   "source": [
    "Generate some data to test the cleaning function."
   ]
  },
  {
   "cell_type": "code",
   "execution_count": 0,
   "metadata": {
    "application/vnd.databricks.v1+cell": {
     "cellMetadata": {
      "byteLimit": 2048000,
      "rowLimit": 10000
     },
     "inputWidgets": {},
     "nuid": "7ffced40-693e-4ba7-b6cb-7dcbf6c5d01f",
     "showTitle": false,
     "tableResultSettingsMap": {},
     "title": ""
    }
   },
   "outputs": [
    {
     "output_type": "stream",
     "name": "stdout",
     "output_type": "stream",
     "text": [
      "Texto 1: Este es un ejemplo de texto.. que contiene múltiples espacios. y puntuación innecesaria.\nTexto 2: Otro ejemplo de texto, con varios espacios y signos de puntuación. Esto es para probar la limpieza.\nTexto 3: Ejemplo con más . espacios y caracteres especiales. y saltos de linea que deben ser eliminados.\nTexto 4: Texto con varias repeticiones de puntos. y comas,. que deben ser limpiados. También saltos de línea.\nTexto 5: Algunos caracteres innecesarios .. que necesitan ser eliminados. y corregidos.\n"
     ]
    }
   ],
   "source": [
    "import re\n",
    "\n",
    "def normalize_text(string, sep_token = \" \\n \"):\n",
    "    \"\"\"Normalize text by removing unnecessary characters and altering the format of words.\"\"\"\n",
    "    # make text lowercase\n",
    "    string = re.sub(r'\\s+', ' ', string).strip()\n",
    "    string = re.sub(r\". ,\", \"\", string)\n",
    "    # remove all instances of multiple spaces\n",
    "    string = string.replace(\"..\", \".\")\n",
    "    string = string.replace(\". .\", \".\")\n",
    "    string = string.replace(\"\\n\", \"\")\n",
    "    string = string.strip()\n",
    "    return string\n",
    "\n",
    "# Generamos algunos datos de ejemplo con varios formatos\n",
    "texts = [\n",
    "    \"Este es un ejemplo de texto...  \\n que contiene múltiples  espacios. \\n\\n   y puntuación innecesaria.\",\n",
    "    \"Otro ejemplo de texto,  con varios   espacios  y signos de puntuación.. \\n Esto es para probar la limpieza.\",\n",
    "    \"   Ejemplo con más  ..    espacios y   caracteres   especiales.. y   saltos de linea  \\n\\n que deben ser  eliminados. \",\n",
    "    \"Texto con varias repeticiones de puntos.. y   comas,. que deben  ser limpiados. \\n También saltos de línea.\",\n",
    "    \"Algunos  caracteres    innecesarios ... \\n  que necesitan   ser eliminados.. \\n y corregidos.\"\n",
    "]\n",
    "\n",
    "# Aplicamos la función normalize_text a cada texto\n",
    "normalized_texts = [normalize_text(text) for text in texts]\n",
    "\n",
    "# Mostramos los resultados\n",
    "for i, text in enumerate(normalized_texts):\n",
    "    print(f\"Texto {i+1}: {text}\")\n"
   ]
  },
  {
   "cell_type": "markdown",
   "metadata": {
    "application/vnd.databricks.v1+cell": {
     "cellMetadata": {},
     "inputWidgets": {},
     "nuid": "c87eb5f2-67cf-43c0-8553-3b4d31d3735e",
     "showTitle": false,
     "tableResultSettingsMap": {},
     "title": ""
    }
   },
   "source": [
    "## Ejercicio 1: Validar longitud de texto antes de enviar a OpenAI\n",
    "\n",
    "Escribe una función llamada validate_text_length que valide si un texto supera un límite de tokens especificado. Si el texto supera el límite, la función debe dividirlo en segmentos de tamaño adecuado para enviarlos al modelo de OpenAI. Usa la codificación cl100k_base.\n",
    "\n"
   ]
  },
  {
   "cell_type": "code",
   "execution_count": 0,
   "metadata": {
    "application/vnd.databricks.v1+cell": {
     "cellMetadata": {
      "byteLimit": 2048000,
      "rowLimit": 10000
     },
     "inputWidgets": {},
     "nuid": "61142b53-f594-48c8-ba28-03d3af120922",
     "showTitle": false,
     "tableResultSettingsMap": {},
     "title": ""
    }
   },
   "outputs": [
    {
     "output_type": "stream",
     "name": "stdout",
     "output_type": "stream",
     "text": [
      "1\n1001\n"
     ]
    }
   ],
   "source": [
    "import tiktoken\n",
    "\n",
    "def validate_text_length(text, max_tokens=2048, encoding_name='cl100k_base'):\n",
    "    # Codificar el texto en tokens usando la codificación especificada\n",
    "    encoding = tiktoken.get_encoding(encoding_name)\n",
    "    tokens = encoding.encode(text)\n",
    "    \n",
    "    # Si el texto no excede el límite, retornamos el texto como un solo segmento\n",
    "    if len(tokens) <= max_tokens:\n",
    "        return [text]\n",
    "    \n",
    "    # Si excede el límite, lo dividimos en segmentos adecuados\n",
    "    segments = []\n",
    "    for i in range(0, len(tokens), max_tokens):\n",
    "        segment_tokens = tokens[i:i+max_tokens]\n",
    "        segment_text = encoding.decode(segment_tokens)\n",
    "        segments.append(segment_text)\n",
    "    \n",
    "    return segments\n",
    "\n",
    "# Prueba de la función con un texto largo\n",
    "text = \"Lorem ipsum \" * 500  # Texto largo\n",
    "segments = validate_text_length(text)  # Llamamos a la función\n",
    "\n",
    "# Verificamos la cantidad de segmentos y la longitud de tokens en el primer segmento\n",
    "print(len(segments))  # Número de segmentos\n",
    "print(len(tiktoken.get_encoding('cl100k_base').encode(segments[0])))  # Número de tokens del primer segmento"
   ]
  },
  {
   "cell_type": "markdown",
   "metadata": {
    "application/vnd.databricks.v1+cell": {
     "cellMetadata": {},
     "inputWidgets": {},
     "nuid": "f4fe8f5a-5a27-43f6-a747-18f694b3e2a9",
     "showTitle": false,
     "tableResultSettingsMap": {},
     "title": ""
    }
   },
   "source": [
    "## Ejercicio 2: Filtrar palabras prohibidas en un texto\n",
    "\n",
    "Escribe una función llamada filter_prohibited_words que remueva palabras prohibidas de un texto antes de enviarlo a OpenAI. \n",
    "\n",
    "Como ejemplo queremos Eliminar palabras como: ['password', 'confidential', 'secret']. \n",
    "\n"
   ]
  },
  {
   "cell_type": "code",
   "execution_count": 0,
   "metadata": {
    "application/vnd.databricks.v1+cell": {
     "cellMetadata": {
      "byteLimit": 2048000,
      "rowLimit": 10000
     },
     "inputWidgets": {},
     "nuid": "b8c0b2f1-84d6-464a-a848-e3a703b33a77",
     "showTitle": false,
     "tableResultSettingsMap": {},
     "title": ""
    }
   },
   "outputs": [
    {
     "output_type": "stream",
     "name": "stdout",
     "output_type": "stream",
     "text": [
      "This document contains [REDACTED] and [REDACTED] information.\n"
     ]
    }
   ],
   "source": [
    "import re\n",
    "\n",
    "def filter_prohibited_words(text, prohibited_words):\n",
    "    # Reemplazar cada palabra prohibida por [REDACTED]\n",
    "    for word in prohibited_words:\n",
    "        # Usamos re.sub para reemplazar la palabra prohibida, con un límite de palabra completa (\\b)\n",
    "        text = re.sub(r'\\b' + re.escape(word) + r'\\b', '[REDACTED]', text, flags=re.IGNORECASE)\n",
    "    return text\n",
    "\n",
    "# Prueba de la función\n",
    "text = \"This document contains confidential and secret information.\"\n",
    "prohibited_words = ['password', 'confidential', 'secret']\n",
    "\n",
    "cleaned_text = filter_prohibited_words(text, prohibited_words)\n",
    "print(cleaned_text)  # Resultado esperado: \"This document contains [REDACTED] and [REDACTED] information.\""
   ]
  },
  {
   "cell_type": "markdown",
   "metadata": {
    "application/vnd.databricks.v1+cell": {
     "cellMetadata": {},
     "inputWidgets": {},
     "nuid": "ee2aae24-6940-47a3-9da6-fa9dc2f9210e",
     "showTitle": false,
     "tableResultSettingsMap": {},
     "title": ""
    }
   },
   "source": [
    "## Ejercicio 3: Identificar idioma del texto\n",
    "\n",
    "Crea una función detect_language que use langdetect para identificar el idioma de un texto y devuelva el código del idioma (e.g., en, es). Verifica el idioma antes de enviarlo al modelo OpenAI. Debes instalar la libreria langdetect\n"
   ]
  },
  {
   "cell_type": "code",
   "execution_count": 0,
   "metadata": {
    "application/vnd.databricks.v1+cell": {
     "cellMetadata": {
      "byteLimit": 2048000,
      "rowLimit": 10000
     },
     "inputWidgets": {},
     "nuid": "3d1496d4-ef86-4740-8a68-c534195725da",
     "showTitle": false,
     "tableResultSettingsMap": {},
     "title": ""
    }
   },
   "outputs": [
    {
     "output_type": "stream",
     "name": "stdout",
     "output_type": "stream",
     "text": [
      "\u001B[43mNote: you may need to restart the kernel using dbutils.library.restartPython() to use updated packages.\u001B[0m\nCollecting langdetect\n  Downloading langdetect-1.0.9.tar.gz (981 kB)\n     ━━━━━━━━━━━━━━━━━━━━━━━━━━━━━━━━━━━━━━━ 981.5/981.5 kB 9.4 MB/s eta 0:00:00\n  Preparing metadata (setup.py): started\n  Preparing metadata (setup.py): finished with status 'done'\nRequirement already satisfied: six in /usr/lib/python3/dist-packages (from langdetect) (1.16.0)\nBuilding wheels for collected packages: langdetect\n  Building wheel for langdetect (setup.py): started\n  Building wheel for langdetect (setup.py): finished with status 'done'\n  Created wheel for langdetect: filename=langdetect-1.0.9-py3-none-any.whl size=993225 sha256=aebf4f99aa248959a8ee392bbf63f30c271393e4db3d2e41ac39b43b5a707c97\n  Stored in directory: /root/.cache/pip/wheels/95/03/7d/59ea870c70ce4e5a370638b5462a7711ab78fba2f655d05106\nSuccessfully built langdetect\nInstalling collected packages: langdetect\nSuccessfully installed langdetect-1.0.9\n\u001B[43mNote: you may need to restart the kernel using dbutils.library.restartPython() to use updated packages.\u001B[0m\n"
     ]
    }
   ],
   "source": [
    "pip install langdetect"
   ]
  },
  {
   "cell_type": "code",
   "execution_count": 0,
   "metadata": {
    "application/vnd.databricks.v1+cell": {
     "cellMetadata": {
      "byteLimit": 2048000,
      "rowLimit": 10000
     },
     "inputWidgets": {},
     "nuid": "3fd229fb-b466-4f68-878e-952cf4831ee5",
     "showTitle": false,
     "tableResultSettingsMap": {},
     "title": ""
    }
   },
   "outputs": [
    {
     "output_type": "stream",
     "name": "stdout",
     "output_type": "stream",
     "text": [
      "pt\n"
     ]
    }
   ],
   "source": [
    "from langdetect import detect\n",
    "\n",
    "def detect_language(text):\n",
    "    \"\"\"Detecta el idioma de un texto.\"\"\"\n",
    "    # Usamos la función detect de langdetect para identificar el idioma\n",
    "    return detect(text)\n",
    "\n",
    "# Prueba de la función\n",
    "text = \"este é um texto de teste\"\n",
    "language = detect_language(text)\n",
    "print(language)  # Resultado esperado: 'pt' (para portugues)\n"
   ]
  },
  {
   "cell_type": "markdown",
   "metadata": {
    "application/vnd.databricks.v1+cell": {
     "cellMetadata": {},
     "inputWidgets": {},
     "nuid": "f06140fe-7f71-47cd-9c25-5cececa772bb",
     "showTitle": false,
     "tableResultSettingsMap": {},
     "title": ""
    }
   },
   "source": [
    "## Ejercicio 5: Generar prompts efectivos\n",
    "\n",
    "Escribe una función generate_effective_prompt que genere un prompt optimizado para OpenAI, dado un tema y un objetivo. Usa plantillas como:\n",
    "“Explain [tema] in simple terms for a [audiencia].”\n",
    "\n"
   ]
  },
  {
   "cell_type": "code",
   "execution_count": 0,
   "metadata": {
    "application/vnd.databricks.v1+cell": {
     "cellMetadata": {
      "byteLimit": 2048000,
      "rowLimit": 10000
     },
     "inputWidgets": {},
     "nuid": "8cfb3fdf-427d-4e67-812e-0be162208334",
     "showTitle": false,
     "tableResultSettingsMap": {},
     "title": ""
    }
   },
   "outputs": [
    {
     "output_type": "stream",
     "name": "stdout",
     "output_type": "stream",
     "text": [
      "Explain machine learning in simple terms for a general audience.\n"
     ]
    }
   ],
   "source": [
    "def generate_effective_prompt(topic, audience=\"general audience\"):\n",
    "    \"\"\"Genera un prompt optimizado para OpenAI.\"\"\"\n",
    "    # Usamos una plantilla para generar el prompt\n",
    "    prompt = f\"Explain {topic} in simple terms for a {audience}.\"\n",
    "    return prompt\n",
    "\n",
    "# Prueba de la función\n",
    "topic = \"machine learning\"\n",
    "prompt = generate_effective_prompt(topic)  # Usamos el valor por defecto de audiencia\n",
    "print(prompt)  # Resultado esperado: \"Explain machine learning in simple terms for a general audience.\""
   ]
  },
  {
   "cell_type": "markdown",
   "metadata": {
    "application/vnd.databricks.v1+cell": {
     "cellMetadata": {},
     "inputWidgets": {},
     "nuid": "02f2c457-7eeb-4385-a129-2bfc313952ac",
     "showTitle": false,
     "tableResultSettingsMap": {},
     "title": ""
    }
   },
   "source": [
    "## Ejercicio 6: Medir costo estimado del uso de OpenAI\n",
    "\n",
    "Crea una función estimate_cost que calcule el costo estimado de una solicitud a OpenAI basado en el número de tokens. Supón un costo de $0.02 por 1000 tokens.\n",
    "\n"
   ]
  },
  {
   "cell_type": "code",
   "execution_count": 0,
   "metadata": {
    "application/vnd.databricks.v1+cell": {
     "cellMetadata": {
      "byteLimit": 2048000,
      "rowLimit": 10000
     },
     "inputWidgets": {},
     "nuid": "98dc1b5d-797b-441c-8160-09d545e713f3",
     "showTitle": false,
     "tableResultSettingsMap": {},
     "title": ""
    }
   },
   "outputs": [
    {
     "output_type": "stream",
     "name": "stdout",
     "output_type": "stream",
     "text": [
      "Estimated cost: $0.0100\n"
     ]
    }
   ],
   "source": [
    "import tiktoken\n",
    "\n",
    "def estimate_cost(text, encoding_name='cl100k_base', cost_per_1k_tokens=0.02):\n",
    "    \"\"\"Calcula el costo estimado de un texto basado en el número de tokens.\"\"\"\n",
    "    # Obtener la codificación de tokens\n",
    "    encoding = tiktoken.get_encoding(encoding_name)\n",
    "    \n",
    "    # Codificar el texto en tokens\n",
    "    tokens = encoding.encode(text)\n",
    "    \n",
    "    # Calcular el número de tokens\n",
    "    num_tokens = len(tokens)\n",
    "    \n",
    "    # Calcular el costo estimado\n",
    "    cost = (num_tokens / 1000) * cost_per_1k_tokens\n",
    "    \n",
    "    return cost\n",
    "\n",
    "# Prueba de la función\n",
    "text = \"This is a sample text.\" * 100  # Texto largo\n",
    "cost = estimate_cost(text)\n",
    "print(f\"Estimated cost: ${cost:.4f}\")  # Resultado esperado: Costo estimado basado en la cantidad de tokens"
   ]
  },
  {
   "cell_type": "markdown",
   "metadata": {
    "application/vnd.databricks.v1+cell": {
     "cellMetadata": {},
     "inputWidgets": {},
     "nuid": "6d9049a5-0472-4912-8be9-9da968620e82",
     "showTitle": false,
     "tableResultSettingsMap": {},
     "title": ""
    }
   },
   "source": [
    "## Ejercicio 7: Limpiar texto JSON para OpenAI\n",
    "\n",
    "Escribe una función clean_json_text que tome un JSON como entrada y limpie todas las claves y valores de caracteres no ASCII.\n"
   ]
  },
  {
   "cell_type": "code",
   "execution_count": 0,
   "metadata": {
    "application/vnd.databricks.v1+cell": {
     "cellMetadata": {
      "byteLimit": 2048000,
      "rowLimit": 10000
     },
     "inputWidgets": {},
     "nuid": "98abc1a3-dbbf-451d-8607-9a9c77acb0d9",
     "showTitle": false,
     "tableResultSettingsMap": {},
     "title": ""
    }
   },
   "outputs": [
    {
     "output_type": "stream",
     "name": "stdout",
     "output_type": "stream",
     "text": [
      "{'key1': 'Hello ', 'key2': 'Caf and th'}\n"
     ]
    }
   ],
   "source": [
    "import json\n",
    "import re\n",
    "\n",
    "def clean_value(value):\n",
    "    \"\"\"Limpia un valor eliminando caracteres no ASCII.\"\"\"\n",
    "    if isinstance(value, str):\n",
    "        # Usamos una expresión regular para eliminar caracteres no ASCII\n",
    "        return re.sub(r'[^\\x00-\\x7F]+', '', value)\n",
    "    return value\n",
    "\n",
    "def clean_json_text(json_obj):\n",
    "    \"\"\"Limpia texto JSON eliminando caracteres no ASCII en claves y valores.\"\"\"\n",
    "    return {clean_value(k): clean_value(v) for k, v in json_obj.items()}\n",
    "\n",
    "# Prueba de la función\n",
    "data = {\"key1\": \"Hello 😊\", \"key2\": \"Café and thé\"}\n",
    "cleaned_data = clean_json_text(data)\n",
    "print(cleaned_data)  # Resultado esperado: {\"key1\": \"Hello \", \"key2\": \"Caf and th\"}\n"
   ]
  }
 ],
 "metadata": {
  "application/vnd.databricks.v1+notebook": {
   "computePreferences": null,
   "dashboards": [],
   "environmentMetadata": null,
   "language": "python",
   "notebookMetadata": {
    "pythonIndentUnit": 4
   },
   "notebookName": "Preprocessing",
   "widgets": {}
  },
  "kernelspec": {
   "display_name": "Python [conda env:base] *",
   "language": "python",
   "name": "conda-base-py"
  },
  "language_info": {
   "codemirror_mode": {
    "name": "ipython",
    "version": 3
   },
   "file_extension": ".py",
   "mimetype": "text/x-python",
   "name": "python",
   "nbconvert_exporter": "python",
   "pygments_lexer": "ipython3",
   "version": "3.12.7"
  },
  "vscode": {
   "interpreter": {
    "hash": "eb4a0ac80907d7f44e1a5e88d3d3381b33e3dbedd3a24d113e876f30a0c46bee"
   }
  }
 },
 "nbformat": 4,
 "nbformat_minor": 0
}
