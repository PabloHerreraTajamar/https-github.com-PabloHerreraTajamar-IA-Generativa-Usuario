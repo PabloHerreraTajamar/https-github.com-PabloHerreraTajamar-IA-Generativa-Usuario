{
 "cells": [
  {
   "cell_type": "markdown",
   "metadata": {},
   "source": [
    "# Function calling for nearby places: Leveraging the Google Places API and customer profiles\n",
    "\n",
    "This notebook is centered around the integration of the Google Places API and custom user profiles to enhance location-based searches. Our approach involves using the Google Places API in combination with user preferences, aiming to make location discovery more personal and relevant. Please note that while we focus on the Google Places API in this instance, there are numerous other APIs you could explore and apply in a similar fashion.\n",
    "\n",
    "We'll explore the application of three main components:\n",
    "\n",
    "- Customer profile: This mock profile captures individual preferences for types of places (e.g., restaurants, parks, museums), budget, preferred ratings, and other specific requirements. \n",
    "\n",
    "- Google Places API: This API provides real-time data about nearby places. It factors in various data points such as ratings, types of venues, costs, and more from the locations around you.\n",
    "\n",
    "- Function calling: A single command such as \"I'm hungry\" or \"I want to visit a museum\" activates the function which combines the user profile data and Google Places API to identify suitable venues.\n",
    "\n",
    "This notebook introduces two primary use cases:\n",
    "\n",
    "- Profile-based recommendations: Learn how to create a user profile and make place recommendations based on individual preferences.\n",
    "\n",
    "- API integration with function calling: Understand how to integrate and call Google Places API effectively to source real-time data of various places using function calling.\n",
    "\n",
    "Please note that while this system is highly versatile, its effectiveness may vary based on user preferences and available place data. For the purposes of this notebook, the customer data is fake and the location is hardcoded. "
   ]
  },
  {
   "cell_type": "markdown",
   "metadata": {},
   "source": [
    "## Setup\n",
    "\n",
    "Google Places API\n",
    "\n",
    "To use the Google Places API, you'll need two things:\n",
    "\n",
    "- Google Account: If you don't already have one, you will need to create a Google account.\n",
    "\n",
    "- Google Places API Key: The API key is a unique identifier that is used to authenticate requests associated with your project for usage and billing purposes. You can get your API key from the [Google Cloud Console](https://console.cloud.google.com/getting-started?authuser=1). \n",
    "\n",
    "\n",
    "\n",
    "Please note that Google Places API is a paid service, and the cost is associated with the number of API calls made. Keep track of your usage to avoid any unexpected charges.\n",
    "\n",
    "\n",
    "\n",
    "The requests library is also needed, you can download it by using the following command: \n",
    "\n",
    "```python\n",
    "pip install requests"
   ]
  },
  {
   "cell_type": "code",
   "execution_count": 1,
   "metadata": {},
   "outputs": [],
   "source": [
    "import json\n",
    "from openai import OpenAI\n",
    "import os\n",
    "import requests\n",
    "\n",
    "from dotenv import load_dotenv\n",
    "load_dotenv()\n",
    "from openai import AzureOpenAI\n",
    "\n",
    "client = AzureOpenAI(\n",
    "    api_key=os.getenv(\"AZURE_OPENAI_API_KEY\"),  \n",
    "    api_version=\"2024-07-01-preview\",\n",
    "    azure_endpoint=os.getenv(\"AZURE_OPENAI_ENDPOINT\")\n",
    ")"
   ]
  },
  {
   "cell_type": "code",
   "execution_count": 2,
   "metadata": {},
   "outputs": [
    {
     "name": "stdout",
     "output_type": "stream",
     "text": [
      "Requirement already satisfied: requests in c:\\users\\alumno_ai\\appdata\\local\\programs\\python\\python312\\lib\\site-packages (2.32.3)\n",
      "Requirement already satisfied: charset-normalizer<4,>=2 in c:\\users\\alumno_ai\\appdata\\local\\programs\\python\\python312\\lib\\site-packages (from requests) (3.4.1)\n",
      "Requirement already satisfied: idna<4,>=2.5 in c:\\users\\alumno_ai\\appdata\\local\\programs\\python\\python312\\lib\\site-packages (from requests) (3.10)\n",
      "Requirement already satisfied: urllib3<3,>=1.21.1 in c:\\users\\alumno_ai\\appdata\\local\\programs\\python\\python312\\lib\\site-packages (from requests) (2.3.0)\n",
      "Requirement already satisfied: certifi>=2017.4.17 in c:\\users\\alumno_ai\\appdata\\local\\programs\\python\\python312\\lib\\site-packages (from requests) (2024.12.14)\n",
      "Note: you may need to restart the kernel to use updated packages.\n"
     ]
    },
    {
     "name": "stderr",
     "output_type": "stream",
     "text": [
      "\n",
      "[notice] A new release of pip is available: 24.0 -> 24.3.1\n",
      "[notice] To update, run: python.exe -m pip install --upgrade pip\n"
     ]
    }
   ],
   "source": [
    "pip install requests"
   ]
  },
  {
   "cell_type": "markdown",
   "metadata": {},
   "source": [
    "In this code snippet, we are defining a function `fetch_customer_profile` that accepts a `user_id` and returns a mock user profile.\n",
    "\n",
    "This function simulates an API call that fetches user data from a database. For this demo, we're using hard-coded data. The user profile contains various details such as the user's location (set to the coordinates of the Golden Gate Bridge for this example), preferences in food and activities, app usage metrics, recent interactions, and user rank.\n",
    "\n",
    "In a production environment, you would replace this hard-coded data with a real API call to your user database.\n"
   ]
  },
  {
   "cell_type": "code",
   "execution_count": 14,
   "metadata": {},
   "outputs": [],
   "source": [
    "def fetch_customer_profile(user_id):\n",
    "    # You can replace this with a real API call in the production code\n",
    "    if user_id == \"user1234\":\n",
    "        return {\n",
    "            \"name\": \"John Doe\",\n",
    "            \"location\": {\n",
    "                \"latitude\": 40.416729,\n",
    "                \"longitude\": -3.703339,\n",
    "            },\n",
    "            \"preferences\": {\n",
    "                \"food\": [\"Italian\", \"Sushi\"],\n",
    "                \"activities\": [\"Hiking\", \"Reading\"],\n",
    "            },\n",
    "            \"behavioral_metrics\": {\n",
    "                \"app_usage\": {\n",
    "                    \"daily\": 2,  # hours\n",
    "                    \"weekly\": 14  # hours\n",
    "                },\n",
    "                \"favourite_post_categories\": [\"Nature\", \"Food\", \"Books\"],\n",
    "                \"active_time\": \"Evening\",\n",
    "            },\n",
    "            \"recent_searches\": [\"Italian restaurants nearby\", \"Book clubs\"],\n",
    "            \"recent_interactions\": [\"Liked a post about 'Best Pizzas in New York'\", \"Commented on a post about 'Central Park Trails'\"],\n",
    "            \"user_rank\": \"Gold\",  # based on some internal ranking system\n",
    "        }\n",
    "    else:\n",
    "        return None\n"
   ]
  },
  {
   "cell_type": "markdown",
   "metadata": {},
   "source": [
    "## Requesting and processing data from Google Places API\n",
    "\n",
    "The function call_google_places_api serves to request information from the Google Places API and provide a list of the top two places based on a given place_type and optional food_preference. We've limited this function to the top two results to manage usage since this is a paid service. However, you can modify this to retrieve any number of results as per your requirement.\n",
    "\n",
    "The function is configured with a hardcoded location (set to the coordinates of the Transamerica Pyramid), your Google API key, and specific request parameters. Depending on the place_type, it formulates the appropriate API request URL. If the place_type is a restaurant and a food_preference is specified, it is included in the API request.\n",
    "\n",
    "After sending the GET request, the function checks the response status. If it's successful, it processes the JSON response, extracts the relevant details using the get_place_details function, and returns them in a human-readable format. If the request fails, it prints out the error for debugging.\n",
    "\n",
    "The get_place_details function is used to retrieve more detailed information about a place, given its place_id. It sends a GET request to the Google Place Details API and returns the result if the request is successful. If the request fails, it prints out the error for debugging.\n",
    "\n",
    "Both functions handle exceptions and return an error message if something goes wrong. "
   ]
  },
  {
   "cell_type": "code",
   "execution_count": 15,
   "metadata": {},
   "outputs": [],
   "source": [
    "def get_place_details(place_id, api_key):\n",
    "    URL = f\"https://maps.googleapis.com/maps/api/place/details/json?place_id={place_id}&key={api_key}\"\n",
    "    response = requests.get(URL)\n",
    "    if response.status_code == 200:\n",
    "        result = json.loads(response.content)[\"result\"]\n",
    "        return result\n",
    "    else:\n",
    "        print(f\"Google Place Details API request failed with status code {response.status_code}\")\n",
    "        print(f\"Response content: {response.content}\")\n",
    "        return None\n"
   ]
  },
  {
   "cell_type": "code",
   "execution_count": 37,
   "metadata": {},
   "outputs": [],
   "source": [
    "def call_google_places_api(user_id, place_type, food_preference=None, keyword=None):\n",
    "    try:\n",
    "        # Fetch customer profile\n",
    "        customer_profile = fetch_customer_profile(user_id)\n",
    "        if customer_profile is None:\n",
    "            return \"I couldn't find your profile. Could you please verify your user ID?\"\n",
    "\n",
    "        # Get location from customer profile\n",
    "        lat = customer_profile[\"location\"][\"latitude\"]\n",
    "        lng = customer_profile[\"location\"][\"longitude\"]\n",
    "        print(lat, lng)\n",
    "\n",
    "        API_KEY = os.getenv('GOOGLE_PLACES_API_KEY')  # retrieve API key from environment variable\n",
    "        LOCATION = f\"{lat},{lng}\"\n",
    "        RADIUS = 3000  # search within a radius of 500 meters\n",
    "        TYPE = place_type\n",
    "\n",
    "        # Construir la URL con el keyword si está presente\n",
    "        if keyword:\n",
    "            URL = f\"https://maps.googleapis.com/maps/api/place/nearbysearch/json?location={LOCATION}&radius={RADIUS}&type={TYPE}&keyword={keyword}&key={API_KEY}\"\n",
    "        else:\n",
    "            URL = f\"https://maps.googleapis.com/maps/api/place/nearbysearch/json?location={LOCATION}&radius={RADIUS}&type={TYPE}&key={API_KEY}\"\n",
    "        \n",
    "        response = requests.get(URL)\n",
    "        if response.status_code == 200:\n",
    "            results = json.loads(response.content)[\"results\"]\n",
    "            print(results)\n",
    "            places = []\n",
    "            for place in results[:2]:  # limit to top 2 results\n",
    "                place_id = place.get(\"place_id\")\n",
    "                place_details = get_place_details(place_id, API_KEY)  # Get the details of the place\n",
    "\n",
    "                place_name = place_details.get(\"name\", \"N/A\")\n",
    "                place_types = next((t for t in place_details.get(\"types\", []) if t not in [\"food\", \"point_of_interest\"]), \"N/A\")  # Get the first type of the place, excluding \"food\" and \"point_of_interest\"\n",
    "                place_rating = place_details.get(\"rating\", \"N/A\")  # Get the rating of the place\n",
    "                total_ratings = place_details.get(\"user_ratings_total\", \"N/A\")  # Get the total number of ratings\n",
    "                place_address = place_details.get(\"vicinity\", \"N/A\")  # Get the vicinity of the place\n",
    "\n",
    "                if ',' in place_address:  # If the address contains a comma\n",
    "                    street_address = place_address.split(',')[0]  # Split by comma and keep only the first part\n",
    "                else:\n",
    "                    street_address = place_address\n",
    "\n",
    "                # Prepare the output string for this place\n",
    "                place_info = f\"{place_name} is a {place_types} located at {street_address}. It has a rating of {place_rating} based on {total_ratings} user reviews.\"\n",
    "\n",
    "                places.append(place_info)\n",
    "                \n",
    "            return places\n",
    "        else:\n",
    "            print(f\"Google Places API request failed with status code {response.status_code}\")\n",
    "            print(f\"Response content: {response.content}\")  # print out the response content for debugging\n",
    "            return []\n",
    "    except Exception as e:\n",
    "        print(f\"Error during the Google Places API call: {e}\")\n",
    "        return []\n"
   ]
  },
  {
   "cell_type": "markdown",
   "metadata": {},
   "source": [
    "## Generating user-specific recommendations with GPT-3.5-Turbo and Google Places API\n",
    "\n",
    "The function `provide_user_specific_recommendations` interacts with GPT-3.5-Turbo and the Google Places API to provide responses tailored to a user's preferences and location.\n",
    "\n",
    "First, it fetches the customer's profile using their `user_id`. If no profile is found, it returns an error message.\n",
    "\n",
    "With a valid profile, it extracts the customer's food preferences and then interacts with the OpenAI model. It provides an initial system message, giving context to the AI model about its role, user preferences, and the usage of the Google Places API function.\n",
    "\n",
    "The user input is also sent to the model as a message, and the function `call_google_places_api` is defined in the `functions` parameter for the AI model to call as needed.\n",
    "\n",
    "Finally, it processes the model's response. If the model makes a function call to the Google Places API, the function is executed with the appropriate arguments, and the names of nearby places are returned. If there are no such places or the request isn't understood, appropriate error messages are returned.\n"
   ]
  },
  {
   "cell_type": "code",
   "execution_count": 32,
   "metadata": {},
   "outputs": [],
   "source": [
    "def provide_user_specific_recommendations(user_input, user_id):\n",
    "    customer_profile = fetch_customer_profile(user_id)\n",
    "    if customer_profile is None:\n",
    "        return \"I couldn't find your profile. Could you please verify your user ID?\"\n",
    "\n",
    "    customer_profile_str = json.dumps(customer_profile)\n",
    "\n",
    "    response = client.chat.completions.create(\n",
    "        model=\"gpt-4o-mini\",\n",
    "        messages=[\n",
    "            {\n",
    "                \"role\": \"system\",\n",
    "                \"content\": f\"You are a sophisticated AI assistant specializing in user intent detection. When a user expresses interest in buying clothing, assume they are looking for a clothing store nearby. Tailor your responses based on the user's preferences and location: {customer_profile_str}.\"\n",
    "            },\n",
    "            {\"role\": \"user\", \"content\": user_input},\n",
    "        ],\n",
    "        temperature=0,\n",
    "        tools=[\n",
    "            {\n",
    "                \"type\": \"function\",\n",
    "                \"function\": {\n",
    "                    \"name\": \"call_google_places_api\",\n",
    "                    \"description\": \"This function calls the Google Places API to find places of a specified type near the user's location.\",\n",
    "                    \"parameters\": {\n",
    "                        \"type\": \"object\",\n",
    "                        \"properties\": {\n",
    "                            \"place_type\": {\n",
    "                                \"type\": \"string\",\n",
    "                                \"description\": \"The type of place to search for (e.g., 'clothing_store').\"\n",
    "                            }\n",
    "                        },\n",
    "                    },\n",
    "                },\n",
    "            }\n",
    "        ],\n",
    "    )\n",
    "\n",
    "    if response.choices[0].finish_reason == 'tool_calls':\n",
    "        function_call = response.choices[0].message.tool_calls[0].function\n",
    "        if function_call.name == \"call_google_places_api\":\n",
    "            place_type = json.loads(function_call.arguments)[\"place_type\"]\n",
    "            \n",
    "            # Llama a la función para buscar tiendas de ropa\n",
    "            places = call_google_places_api(user_id, place_type=place_type)\n",
    "            if places:  # Si hay resultados\n",
    "                return f\"Here are some clothing stores you might be interested in: {' '.join(places)}\"\n",
    "            else:  # Si no hay resultados\n",
    "                return \"I couldn't find any clothing stores nearby.\"\n",
    "\n",
    "    return \"I am sorry, but I could not understand your request.\"\n"
   ]
  },
  {
   "cell_type": "markdown",
   "metadata": {},
   "source": [
    "## Executing user-specific recommendations\n",
    "\n",
    "Upon execution, the function fetches the user's profile, interacts with the AI model, processes the model's response, calls the Google Places API if necessary, and ultimately returns a list of recommendations tailored to the user's preferences and location. The printed output would consist of these personalized recommendations.\n"
   ]
  },
  {
   "cell_type": "code",
   "execution_count": 38,
   "metadata": {},
   "outputs": [
    {
     "name": "stdout",
     "output_type": "stream",
     "text": [
      "40.416729 -3.703339\n",
      "[{'business_status': 'OPERATIONAL', 'geometry': {'location': {'lat': 40.4131012, 'lng': -3.7086039}, 'viewport': {'northeast': {'lat': 40.41442388029149, 'lng': -3.707224019708497}, 'southwest': {'lat': 40.41172591970849, 'lng': -3.709921980291501}}}, 'icon': 'https://maps.gstatic.com/mapfiles/place_api/icons/v1/png_71/lodging-71.png', 'icon_background_color': '#909CE1', 'icon_mask_base_uri': 'https://maps.gstatic.com/mapfiles/place_api/icons/v2/hotel_pinlet', 'name': 'Posada Del Dragón', 'opening_hours': {'open_now': True}, 'photos': [{'height': 3212, 'html_attributions': ['<a href=\"https://maps.google.com/maps/contrib/113415132755355326975\">Archie Conan</a>'], 'photo_reference': 'AWYs27xgGwqFaryWGGL5YDQkrbTVgrXPBbVjbkd9-PaouawUDysVJ6ezZ5EHiF0RoC3fF-PEGQp3OLCFKxH_iVoNaTh2n3lZK2EvzWCCETIBr36aCPJuGPGyBTYBg_sn8MVeP46a_VElYwYLE8HgsfLRfEfa9vFpzeXSvxFoacufyJ3u7Y19', 'width': 2252}], 'place_id': 'ChIJ-_tlr3goQg0RJLq1R8E3Iuc', 'plus_code': {'compound_code': 'C77R+6H Madrid, Spain', 'global_code': '8CGRC77R+6H'}, 'rating': 4.3, 'reference': 'ChIJ-_tlr3goQg0RJLq1R8E3Iuc', 'scope': 'GOOGLE', 'types': ['clothing_store', 'lodging', 'store', 'point_of_interest', 'establishment'], 'user_ratings_total': 1168, 'vicinity': 'Calle de la Cava Baja, 14, Madrid'}, {'business_status': 'OPERATIONAL', 'geometry': {'location': {'lat': 40.4323844, 'lng': -3.6871238}, 'viewport': {'northeast': {'lat': 40.43383789999999, 'lng': -3.685889499999999}, 'southwest': {'lat': 40.43025870000002, 'lng': -3.6893323}}}, 'icon': 'https://maps.gstatic.com/mapfiles/place_api/icons/v1/png_71/shopping-71.png', 'icon_background_color': '#4B96F3', 'icon_mask_base_uri': 'https://maps.gstatic.com/mapfiles/place_api/icons/v2/shopping_pinlet', 'name': 'ABC Serrano Commercial Center', 'opening_hours': {'open_now': True}, 'photos': [{'height': 1200, 'html_attributions': ['<a href=\"https://maps.google.com/maps/contrib/101070444868839977864\">Centro Comercial ABC Serrano</a>'], 'photo_reference': 'AWYs27yaytk97GdHPZcwrV3OoTgFNPzj0lZS9vfDiHMyPSH_mEpFierOS7ZIi3TVa-kK2FdBBT4Yd8ixYMHN7-JCX8CZd3nVB32BashAZraqxOaY3Zv_L6XylLtLFADPyJDx5-CR0rzXS84lYHSgK9MSsIMjb3fz7TceFnbNQWAGS21BHOWv', 'width': 800}], 'place_id': 'ChIJ9weJk5QoQg0Rc7sC66q51eA', 'plus_code': {'compound_code': 'C8J7+X5 Madrid, Spain', 'global_code': '8CGRC8J7+X5'}, 'rating': 3.9, 'reference': 'ChIJ9weJk5QoQg0Rc7sC66q51eA', 'scope': 'GOOGLE', 'types': ['shopping_mall', 'supermarket', 'shoe_store', 'grocery_or_supermarket', 'clothing_store', 'store', 'food', 'point_of_interest', 'establishment'], 'user_ratings_total': 9665, 'vicinity': 'Calle de Serrano, 61, Madrid'}, {'business_status': 'OPERATIONAL', 'geometry': {'location': {'lat': 40.42171629999999, 'lng': -3.720186699999999}, 'viewport': {'northeast': {'lat': 40.42292043029149, 'lng': -3.719267369708497}, 'southwest': {'lat': 40.42022246970849, 'lng': -3.721965330291502}}}, 'icon': 'https://maps.gstatic.com/mapfiles/place_api/icons/v1/png_71/shopping-71.png', 'icon_background_color': '#4B96F3', 'icon_mask_base_uri': 'https://maps.gstatic.com/mapfiles/place_api/icons/v2/shopping_pinlet', 'name': 'Centro Comercial Príncipe Pío', 'opening_hours': {'open_now': True}, 'photos': [{'height': 9248, 'html_attributions': ['<a href=\"https://maps.google.com/maps/contrib/109451016629357163848\">Yuliia Lukominska</a>'], 'photo_reference': 'AWYs27xnHq0Mt9M4fWx2EG9ulsv9eVDF96K6g9bE3-FI2_USvRmSbuAzVUTuBVhVR5TKvhZJR-zslUCZXz3CUgXhDvgFWur9l2SVA3vdAI6s_udks_pSDQHFRSkhLOISkltqNtCl8fslBR_TNLZRIKCqRygq1JP-ijDIGoAuSj3qBVbXMByx', 'width': 6936}], 'place_id': 'ChIJqRkui3IoQg0R7Hptq1oWq-k', 'plus_code': {'compound_code': 'C7CH+MW Madrid, Spain', 'global_code': '8CGRC7CH+MW'}, 'rating': 4.2, 'reference': 'ChIJqRkui3IoQg0R7Hptq1oWq-k', 'scope': 'GOOGLE', 'types': ['shopping_mall', 'grocery_or_supermarket', 'clothing_store', 'store', 'food', 'point_of_interest', 'establishment'], 'user_ratings_total': 32092, 'vicinity': 'Paseo de la Florida, 2, Madrid'}, {'business_status': 'OPERATIONAL', 'geometry': {'location': {'lat': 40.422684, 'lng': -3.700674}, 'viewport': {'northeast': {'lat': 40.4244976802915, 'lng': -3.699332569708499}, 'southwest': {'lat': 40.4217997197085, 'lng': -3.702030530291503}}}, 'icon': 'https://maps.gstatic.com/mapfiles/place_api/icons/v1/png_71/shopping-71.png', 'icon_background_color': '#4B96F3', 'icon_mask_base_uri': 'https://maps.gstatic.com/mapfiles/place_api/icons/v2/shopping_pinlet', 'name': 'Desigual', 'opening_hours': {'open_now': True}, 'photos': [{'height': 5184, 'html_attributions': ['<a href=\"https://maps.google.com/maps/contrib/101773681542081740984\">Saúl Hernández</a>'], 'photo_reference': 'AWYs27x9-5LE7mNQ4KBk17etooDaFqF25OwXrIga9eanx16tM-D_gJxsNWkMj4GGlxIowHaeMCNczi0OhvTw0S1vCbkdJxL5JDCrjvTfPACKUQwenK3ZUV3Rlzff5YnWuo8n_bXfgMVi1mUGbh0p4jNaPnBOx0CusnSXsMBqWnI9Xg8d3rfJ', 'width': 3456}], 'place_id': 'ChIJtw2d0YcoQg0RZlf8Wjo7wgs', 'plus_code': {'compound_code': 'C7FX+3P Madrid, Spain', 'global_code': '8CGRC7FX+3P'}, 'rating': 4.2, 'reference': 'ChIJtw2d0YcoQg0RZlf8Wjo7wgs', 'scope': 'GOOGLE', 'types': ['clothing_store', 'store', 'point_of_interest', 'establishment'], 'user_ratings_total': 280, 'vicinity': 'Calle de Fuencarral, 36-38, Madrid'}, {'business_status': 'OPERATIONAL', 'geometry': {'location': {'lat': 40.419481, 'lng': -3.70574}, 'viewport': {'northeast': {'lat': 40.4212263802915, 'lng': -3.704148119708498}, 'southwest': {'lat': 40.4185284197085, 'lng': -3.706846080291502}}}, 'icon': 'https://maps.gstatic.com/mapfiles/place_api/icons/v1/png_71/shopping-71.png', 'icon_background_color': '#4B96F3', 'icon_mask_base_uri': 'https://maps.gstatic.com/mapfiles/place_api/icons/v2/shopping_pinlet', 'name': 'Desigual', 'opening_hours': {'open_now': True}, 'photos': [{'height': 2252, 'html_attributions': ['<a href=\"https://maps.google.com/maps/contrib/114118451392288609524\">Pako Valera</a>'], 'photo_reference': 'AWYs27zQs8wYDkfMgURah0qUevVNLezmw-2BGlZVDTueXccBPpZsuRUIiNWZuf6-_w8oGWYXYCOylIcrsbqLNngDVJvoHxLEfiin-nM39lrQKBT3EAmkrquM34rSHf1jgb-mlb8q4jihVF1XkTvqMtxGSBU8L0gq6FHXF0j_hsndbAmSHKku', 'width': 4000}], 'place_id': 'ChIJ3RcUTHwoQg0R5sHX4Wb3IZY', 'plus_code': {'compound_code': 'C79V+QP Madrid, Spain', 'global_code': '8CGRC79V+QP'}, 'rating': 4.4, 'reference': 'ChIJ3RcUTHwoQg0R5sHX4Wb3IZY', 'scope': 'GOOGLE', 'types': ['clothing_store', 'store', 'point_of_interest', 'establishment'], 'user_ratings_total': 1911, 'vicinity': 'Calle de Preciados, 25, Madrid'}, {'business_status': 'OPERATIONAL', 'geometry': {'location': {'lat': 40.4179192, 'lng': -3.704376799999999}, 'viewport': {'northeast': {'lat': 40.4197067302915, 'lng': -3.702752019708498}, 'southwest': {'lat': 40.4170087697085, 'lng': -3.705449980291503}}}, 'icon': 'https://maps.gstatic.com/mapfiles/place_api/icons/v1/png_71/shopping-71.png', 'icon_background_color': '#4B96F3', 'icon_mask_base_uri': 'https://maps.gstatic.com/mapfiles/place_api/icons/v2/shopping_pinlet', 'name': 'Intimissimi', 'opening_hours': {'open_now': True}, 'photos': [{'height': 1860, 'html_attributions': ['<a href=\"https://maps.google.com/maps/contrib/114118451392288609524\">Pako Valera</a>'], 'photo_reference': 'AWYs27y47T6qrxhBTwN_MH1HAD7DDkvkNeKdHcczSVKte8Xiprpi5JKU5P3vWZcxzYYStwnvnj-TGyZ2xiMhhGQh3pjkexZvODKkNUM79cx1VTktf_ewyGGts7PjDLQMh3b8GcJOuKeuTycoUhcp498cT9mcrMmjeQqd35Lktn_Fb5NJ0Gso', 'width': 3826}], 'place_id': 'ChIJq5LFz30oQg0RFzX14va-Wi8', 'plus_code': {'compound_code': 'C79W+56 Madrid, Spain', 'global_code': '8CGRC79W+56'}, 'rating': 4, 'reference': 'ChIJq5LFz30oQg0RFzX14va-Wi8', 'scope': 'GOOGLE', 'types': ['clothing_store', 'store', 'point_of_interest', 'establishment'], 'user_ratings_total': 400, 'vicinity': 'Calle de Preciados, 12, Madrid'}, {'business_status': 'OPERATIONAL', 'geometry': {'location': {'lat': 40.4230351, 'lng': -3.6973859}, 'viewport': {'northeast': {'lat': 40.4243402802915, 'lng': -3.696057119708497}, 'southwest': {'lat': 40.4216423197085, 'lng': -3.698755080291502}}}, 'icon': 'https://maps.gstatic.com/mapfiles/place_api/icons/v1/png_71/shopping-71.png', 'icon_background_color': '#4B96F3', 'icon_mask_base_uri': 'https://maps.gstatic.com/mapfiles/place_api/icons/v2/shopping_pinlet', 'name': 'Salvador Bachiller - Gravina Outlet', 'opening_hours': {'open_now': True}, 'photos': [{'height': 3024, 'html_attributions': ['<a href=\"https://maps.google.com/maps/contrib/117667207467970853219\">Mildred León</a>'], 'photo_reference': 'AWYs27wOS1bI2xP1p5TV-EJr0ktrJO8ddT0zYwtfmqS-dYDiV9vjweghE4hHKp6M5N9s9PXVRm03hweCi2-ERwcMhJhOKYECwyglfkeURkDwvt5IlIuLWhlTZ7X1KpV9vibgVSNQINzfNbtwMzQ9Om2MNXWpNmxUIMxWxkHveVbLGE8Urv_o', 'width': 4032}], 'place_id': 'ChIJAxRP-YUoQg0RiobPz82SvnM', 'plus_code': {'compound_code': 'C8F3+62 Madrid, Spain', 'global_code': '8CGRC8F3+62'}, 'rating': 3.7, 'reference': 'ChIJAxRP-YUoQg0RiobPz82SvnM', 'scope': 'GOOGLE', 'types': ['store', 'clothing_store', 'point_of_interest', 'establishment'], 'user_ratings_total': 225, 'vicinity': 'Calle de Gravina, 11, Madrid'}, {'business_status': 'OPERATIONAL', 'geometry': {'location': {'lat': 40.4174952, 'lng': -3.7042031}, 'viewport': {'northeast': {'lat': 40.41877453029149, 'lng': -3.703273219708498}, 'southwest': {'lat': 40.41607656970849, 'lng': -3.705971180291503}}}, 'icon': 'https://maps.gstatic.com/mapfiles/place_api/icons/v1/png_71/shopping-71.png', 'icon_background_color': '#4B96F3', 'icon_mask_base_uri': 'https://maps.gstatic.com/mapfiles/place_api/icons/v2/shopping_pinlet', 'name': 'Sfera', 'opening_hours': {'open_now': True}, 'photos': [{'height': 2252, 'html_attributions': ['<a href=\"https://maps.google.com/maps/contrib/114118451392288609524\">Pako Valera</a>'], 'photo_reference': 'AWYs27yviFguQrCYFZoHh4U6wtBX5nClZlex4lzZf5OzHOPxBqy70l3OL71AHuUo8ZtArozEp6K2FhCbRjd4Ve7Nrc9RhEt0DiXe7iU-BlxV6-28WkVyA3gjBwuk1NOwXi_tty-SZ3y31hDxj1mogVOl0cFSgcJ7iaTLXwRX-BF7Y3zAKO-B', 'width': 4000}], 'place_id': 'ChIJGW7hcn4oQg0RZm30jMmV4Zs', 'plus_code': {'compound_code': 'C78W+X8 Madrid, Spain', 'global_code': '8CGRC78W+X8'}, 'rating': 4.1, 'reference': 'ChIJGW7hcn4oQg0RZm30jMmV4Zs', 'scope': 'GOOGLE', 'types': ['clothing_store', 'store', 'point_of_interest', 'establishment'], 'user_ratings_total': 1667, 'vicinity': 'Calle de Preciados, 4, Madrid'}, {'business_status': 'OPERATIONAL', 'geometry': {'location': {'lat': 40.4279967, 'lng': -3.6866103}, 'viewport': {'northeast': {'lat': 40.4292693302915, 'lng': -3.685241869708498}, 'southwest': {'lat': 40.4265713697085, 'lng': -3.687939830291503}}}, 'icon': 'https://maps.gstatic.com/mapfiles/place_api/icons/v1/png_71/shopping-71.png', 'icon_background_color': '#4B96F3', 'icon_mask_base_uri': 'https://maps.gstatic.com/mapfiles/place_api/icons/v2/shopping_pinlet', 'name': 'Intimissimi', 'opening_hours': {'open_now': True}, 'photos': [{'height': 1024, 'html_attributions': ['<a href=\"https://maps.google.com/maps/contrib/111846988359930358493\">Intimissimi</a>'], 'photo_reference': 'AWYs27zwY9gMBsjBADz5MyFVgCIAqsbbFXQINNDErWjX0X5Ev2BgvCBXE515iyj0-6VWBGch-LSBaLUamnnrw5H850zcXRCzXjk7SjHYBGewQj7XcEk--_fFFbwpPmYZg7whdupyBE90kVj4kD0Ur4iIq9gVBmygbYrDcg5R-taL9kUQ9-ka', 'width': 768}], 'place_id': 'ChIJ3a61qJYoQg0Rxbtb9rcRNgQ', 'plus_code': {'compound_code': 'C8H7+59 Madrid, Spain', 'global_code': '8CGRC8H7+59'}, 'rating': 4, 'reference': 'ChIJ3a61qJYoQg0Rxbtb9rcRNgQ', 'scope': 'GOOGLE', 'types': ['clothing_store', 'store', 'point_of_interest', 'establishment'], 'user_ratings_total': 88, 'vicinity': 'Calle de Ayala, 13, Madrid'}, {'business_status': 'OPERATIONAL', 'geometry': {'location': {'lat': 40.395742, 'lng': -3.708820999999999}, 'viewport': {'northeast': {'lat': 40.3971111802915, 'lng': -3.707462069708499}, 'southwest': {'lat': 40.3944132197085, 'lng': -3.710160030291503}}}, 'icon': 'https://maps.gstatic.com/mapfiles/place_api/icons/v1/png_71/shopping-71.png', 'icon_background_color': '#4B96F3', 'icon_mask_base_uri': 'https://maps.gstatic.com/mapfiles/place_api/icons/v2/shopping_pinlet', 'name': 'S. L. Barragan Motorcycles', 'opening_hours': {'open_now': True}, 'photos': [{'height': 1153, 'html_attributions': ['<a href=\"https://maps.google.com/maps/contrib/102724037685445807638\">Barragán Motos S. L.</a>'], 'photo_reference': 'AWYs27xkMPISNTtzAESliEvS9bla8FuU0IxoEHX0AlH7PAxyY3cjHsi_I_8zOyvsRNmhfmn6CXQiq5ah_rBPFod5Y5tpsGjidOhlwPvZxBpU8pOJ2ko1TUwOgEhZIe7K_fBa547IDedwGgh2w_ij0vrYzP9Dzvv-RULmIhCY6270IriP-38X', 'width': 2048}], 'place_id': 'ChIJLWgFb8knQg0RIbzzsux-Fek', 'plus_code': {'compound_code': '97WR+7F Madrid, Spain', 'global_code': '8CGR97WR+7F'}, 'rating': 4, 'reference': 'ChIJLWgFb8knQg0RIbzzsux-Fek', 'scope': 'GOOGLE', 'types': ['car_repair', 'clothing_store', 'store', 'point_of_interest', 'establishment'], 'user_ratings_total': 475, 'vicinity': 'Avenida del Manzanares, 162, Madrid'}, {'business_status': 'OPERATIONAL', 'geometry': {'location': {'lat': 40.420075, 'lng': -3.7027333}, 'viewport': {'northeast': {'lat': 40.4215058802915, 'lng': -3.701324569708498}, 'southwest': {'lat': 40.4188079197085, 'lng': -3.704022530291503}}}, 'icon': 'https://maps.gstatic.com/mapfiles/place_api/icons/v1/png_71/shopping-71.png', 'icon_background_color': '#4B96F3', 'icon_mask_base_uri': 'https://maps.gstatic.com/mapfiles/place_api/icons/v2/shopping_pinlet', 'name': 'Stradivarius', 'opening_hours': {'open_now': True}, 'photos': [{'height': 550, 'html_attributions': ['<a href=\"https://maps.google.com/maps/contrib/115622757677984773478\">Stradivarius</a>'], 'photo_reference': 'AWYs27zae_XSrz4AtCwi0dm4bZakcIitZWQv58hs91vEx6WVsjCw2ptGNMzKQBvllo0CuYZS1s2pJ8mMRfP8_SzRaFYihCniZfLsRFNiT0GjXeM4n75hM2uWzNSD5gsC66wyG7F0LeMlI9evgM69nrjwgTfsevO8WYCCJfORajGjUws8yu7T', 'width': 463}], 'place_id': 'ChIJr42QgH0oQg0Rq0LJnya-FU4', 'plus_code': {'compound_code': 'C7CW+2W Madrid, Spain', 'global_code': '8CGRC7CW+2W'}, 'rating': 4.1, 'reference': 'ChIJr42QgH0oQg0Rq0LJnya-FU4', 'scope': 'GOOGLE', 'types': ['clothing_store', 'store', 'point_of_interest', 'establishment'], 'user_ratings_total': 2049, 'vicinity': 'Gran Vía, 30, Madrid'}, {'business_status': 'OPERATIONAL', 'geometry': {'location': {'lat': 40.4182312, 'lng': -3.704614699999999}, 'viewport': {'northeast': {'lat': 40.4194480802915, 'lng': -3.703750119708497}, 'southwest': {'lat': 40.4167501197085, 'lng': -3.706448080291501}}}, 'icon': 'https://maps.gstatic.com/mapfiles/place_api/icons/v1/png_71/shopping-71.png', 'icon_background_color': '#4B96F3', 'icon_mask_base_uri': 'https://maps.gstatic.com/mapfiles/place_api/icons/v2/shopping_pinlet', 'name': 'Calzedonia', 'opening_hours': {'open_now': True}, 'photos': [{'height': 2252, 'html_attributions': ['<a href=\"https://maps.google.com/maps/contrib/114118451392288609524\">Pako Valera</a>'], 'photo_reference': 'AWYs27w5LxixOXxlhOCKV7L7dT3CXWX86ZrIZ-LHCJ8xyijJOIWth6ssJb5xCCzdhE8mJEDOK93BJcAHyoqqqgBGCESBccE4lqCT30x-fLOufvLmBbu2Q7omo3XPAcw0zCcfPBO80HnFvu8TAHeb-4_V-cSBzwm2A5FmgzzM_wTc2uYbs105', 'width': 4000}], 'place_id': 'ChIJO2zE0X0oQg0RZoTos5pt5fs', 'plus_code': {'compound_code': 'C79W+75 Madrid, Spain', 'global_code': '8CGRC79W+75'}, 'rating': 3.7, 'reference': 'ChIJO2zE0X0oQg0RZoTos5pt5fs', 'scope': 'GOOGLE', 'types': ['clothing_store', 'store', 'point_of_interest', 'establishment'], 'user_ratings_total': 126, 'vicinity': 'Calle de Preciados, 16, Madrid'}, {'business_status': 'OPERATIONAL', 'geometry': {'location': {'lat': 40.4233039, 'lng': -3.686107599999999}, 'viewport': {'northeast': {'lat': 40.4246841302915, 'lng': -3.684890669708498}, 'southwest': {'lat': 40.4219861697085, 'lng': -3.687588630291502}}}, 'icon': 'https://maps.gstatic.com/mapfiles/place_api/icons/v1/png_71/shopping-71.png', 'icon_background_color': '#4B96F3', 'icon_mask_base_uri': 'https://maps.gstatic.com/mapfiles/place_api/icons/v2/shopping_pinlet', 'name': 'Cortana Madrid', 'opening_hours': {'open_now': True}, 'photos': [{'height': 1467, 'html_attributions': ['<a href=\"https://maps.google.com/maps/contrib/104742790553793698241\">Alex Fernandez-Cruz Soldevila (Chiqui)</a>'], 'photo_reference': 'AWYs27y3roHyyLP1mfwOL_XgPqD2bHhSe6J1UEPAZmP3fVO5bVtEg88PvIFBkCEM8jass9s6e-ZpTPfLgGrVa0C2jA7yXAwkk4PlkFm_XhUIqow67iPwfjKgiTMPYSJjamTrg_MnAS4MwIZrBfzWvFAIXT5Up1mLX5XBwxTwqWzxKeMh1GL2', 'width': 2048}], 'place_id': 'ChIJ_z0NY5coQg0RrDgwFLXvkLU', 'plus_code': {'compound_code': 'C8F7+8H Madrid, Spain', 'global_code': '8CGRC8F7+8H'}, 'rating': 4.6, 'reference': 'ChIJ_z0NY5coQg0RrDgwFLXvkLU', 'scope': 'GOOGLE', 'types': ['clothing_store', 'store', 'point_of_interest', 'establishment'], 'user_ratings_total': 89, 'vicinity': 'Calle de Jorge Juan, 12, Madrid'}, {'business_status': 'OPERATIONAL', 'geometry': {'location': {'lat': 40.4250786, 'lng': -3.6787717}, 'viewport': {'northeast': {'lat': 40.4264192802915, 'lng': -3.677372569708498}, 'southwest': {'lat': 40.42372131970851, 'lng': -3.680070530291502}}}, 'icon': 'https://maps.gstatic.com/mapfiles/place_api/icons/v1/png_71/shopping-71.png', 'icon_background_color': '#4B96F3', 'icon_mask_base_uri': 'https://maps.gstatic.com/mapfiles/place_api/icons/v2/shopping_pinlet', 'name': 'Intimissimi', 'opening_hours': {'open_now': True}, 'photos': [{'height': 6936, 'html_attributions': ['<a href=\"https://maps.google.com/maps/contrib/109072927396567838228\">Tomasz Słowiński</a>'], 'photo_reference': 'AWYs27xNTIHc27mJx728R9MSD6ZMky1p4EkK6jDPVuyM8Iar9IiSdgD_YRZ4aBWIKWqgRmOBqgoyEWT8bds_lV63hGSpMerL4H7CzP8SqZMZXoVXJILPrBOfJnF8uf7j8PMS3XB4ovWJ-A2EWivUoWmW2Xfm0O1rfUK044E1kfNBHjXMFN-a', 'width': 9248}], 'place_id': 'ChIJT7t_I7soQg0RuMwaaBYpgXA', 'plus_code': {'compound_code': 'C8GC+2F Madrid, Spain', 'global_code': '8CGRC8GC+2F'}, 'rating': 3.8, 'reference': 'ChIJT7t_I7soQg0RuMwaaBYpgXA', 'scope': 'GOOGLE', 'types': ['clothing_store', 'store', 'point_of_interest', 'establishment'], 'user_ratings_total': 146, 'vicinity': 'Calle de Goya, 73, LOCAL 5, Madrid'}, {'business_status': 'OPERATIONAL', 'geometry': {'location': {'lat': 40.42613899999999, 'lng': -3.711436}, 'viewport': {'northeast': {'lat': 40.42746453029149, 'lng': -3.710049869708497}, 'southwest': {'lat': 40.4247665697085, 'lng': -3.712747830291502}}}, 'icon': 'https://maps.gstatic.com/mapfiles/place_api/icons/v1/png_71/shopping-71.png', 'icon_background_color': '#4B96F3', 'icon_mask_base_uri': 'https://maps.gstatic.com/mapfiles/place_api/icons/v2/shopping_pinlet', 'name': 'The Polar Company', 'opening_hours': {'open_now': True}, 'photos': [{'height': 1000, 'html_attributions': ['<a href=\"https://maps.google.com/maps/contrib/117899725669918014383\">La Compañía Polar</a>'], 'photo_reference': 'AWYs27y_n-X68rwIwEFdDMBcs8G9JG9MjuKebawjbuX0CFZDW6lz7bHdF6aHu2Biiry7XZ1ZvFLKJC0YZTnioEqzqxg4lDwAJN6v29fvp3IUvtwt40AvCEigaISL82X4ymeZoOXFX2dNJMr2Q_gOpvRRelqNl3Y6r_l3C9_7K5FKF4oMy5kt', 'width': 684}], 'place_id': 'ChIJJVCCu2UoQg0RCgFLtB4ymB8', 'plus_code': {'compound_code': 'C7GQ+FC Madrid, Spain', 'global_code': '8CGRC7GQ+FC'}, 'rating': 4.8, 'reference': 'ChIJJVCCu2UoQg0RCgFLtB4ymB8', 'scope': 'GOOGLE', 'types': ['clothing_store', 'store', 'point_of_interest', 'establishment'], 'user_ratings_total': 74, 'vicinity': 'Calle del Conde Duque, 5, Madrid'}, {'business_status': 'OPERATIONAL', 'geometry': {'location': {'lat': 40.4229744, 'lng': -3.6997925}, 'viewport': {'northeast': {'lat': 40.42419738029149, 'lng': -3.698247319708497}, 'southwest': {'lat': 40.42149941970849, 'lng': -3.700945280291502}}}, 'icon': 'https://maps.gstatic.com/mapfiles/place_api/icons/v1/png_71/shopping-71.png', 'icon_background_color': '#4B96F3', 'icon_mask_base_uri': 'https://maps.gstatic.com/mapfiles/place_api/icons/v2/shopping_pinlet', 'name': 'Carhartt WIP Store Madrid Augusto Figueroa 11', 'opening_hours': {'open_now': True}, 'photos': [{'height': 4000, 'html_attributions': ['<a href=\"https://maps.google.com/maps/contrib/117706661213933335338\">Mary Connolly</a>'], 'photo_reference': 'AWYs27yTzH0d9ghN-NxFF9_Q6UGhs1JhiRD83VGMDu8B5cWsLfmTQpb-5JNihgs24X9Y-bGOQ9LSJ9LRXqP-BtyBrmiJvkXCqRfMaIB7N7_B9Jfwj9rUkbFagN2oPsP4lkxX4MLXgTujafwi5CdDnzV-uQpzKecp6s85iOaxTaMLVd5jFrkP', 'width': 3000}], 'place_id': 'ChIJOW8nK4YoQg0RpOxSdnMVyoI', 'plus_code': {'compound_code': 'C8F2+53 Madrid, Spain', 'global_code': '8CGRC8F2+53'}, 'rating': 4.2, 'reference': 'ChIJOW8nK4YoQg0RpOxSdnMVyoI', 'scope': 'GOOGLE', 'types': ['clothing_store', 'store', 'point_of_interest', 'establishment'], 'user_ratings_total': 413, 'vicinity': 'Calle de Augusto Figueroa, 11, Madrid'}, {'business_status': 'OPERATIONAL', 'geometry': {'location': {'lat': 40.4158683, 'lng': -3.707838100000001}, 'viewport': {'northeast': {'lat': 40.41733413029149, 'lng': -3.706575119708498}, 'southwest': {'lat': 40.4146361697085, 'lng': -3.709273080291503}}}, 'icon': 'https://maps.gstatic.com/mapfiles/place_api/icons/v1/png_71/shopping-71.png', 'icon_background_color': '#4B96F3', 'icon_mask_base_uri': 'https://maps.gstatic.com/mapfiles/place_api/icons/v2/shopping_pinlet', 'name': 'La Favorita C. B.', 'opening_hours': {'open_now': True}, 'photos': [{'height': 1024, 'html_attributions': ['<a href=\"https://maps.google.com/maps/contrib/109705032338814159478\">La Favorita Casa Enguita</a>'], 'photo_reference': 'AWYs27ygoaOImpPw31PUHfegQFANnLa9I0XNCoFm1-4e_fPPbjz2WQK3N_PlHdQZAmOLBtt45hS5vn1q81UqQrCHP4xM87tTHZ-fDfF1F8BiNTerhUVSc3tXl8gBTBoRTz55vy0b2F50CUGGt5v43rCx2FQ2jFC_BafEpzVWIM1xYqXa2qpO', 'width': 768}], 'place_id': 'ChIJUXQO034oQg0R2rLjnXiLLHs', 'plus_code': {'compound_code': 'C78R+8V Madrid, Spain', 'global_code': '8CGRC78R+8V'}, 'rating': 4.9, 'reference': 'ChIJUXQO034oQg0R2rLjnXiLLHs', 'scope': 'GOOGLE', 'types': ['clothing_store', 'store', 'point_of_interest', 'establishment'], 'user_ratings_total': 381, 'vicinity': 'Plaza Mayor, 25, Madrid'}, {'business_status': 'OPERATIONAL', 'geometry': {'location': {'lat': 40.42001, 'lng': -3.70224}, 'viewport': {'northeast': {'lat': 40.4213790302915, 'lng': -3.700888469708497}, 'southwest': {'lat': 40.41868106970851, 'lng': -3.703586430291502}}}, 'icon': 'https://maps.gstatic.com/mapfiles/place_api/icons/v1/png_71/shopping-71.png', 'icon_background_color': '#4B96F3', 'icon_mask_base_uri': 'https://maps.gstatic.com/mapfiles/place_api/icons/v2/shopping_pinlet', 'name': 'Bershka', 'opening_hours': {'open_now': True}, 'photos': [{'height': 2322, 'html_attributions': ['<a href=\"https://maps.google.com/maps/contrib/112676515450057146955\">Antonio Balboa</a>'], 'photo_reference': 'AWYs27y4bBKQkbE9kWtX9vduK4X1T6sttP95eAyA6KPZ-TAddKiQcyzDyX6Iee549d9_mDppkZpiSQQIM_YmQ7tfCvtCKmEWI0MLdPodSluXsL4k4PBhvVnwE3r08cpsFt47k9Cc_F9hIg8nkfvaYuREYSl70b_CYWhRyDo8EDe7OqF2i4OL', 'width': 4128}], 'place_id': 'ChIJ23lxcIcoQg0RsYuwYsH5ycc', 'plus_code': {'compound_code': 'C7CX+24 Madrid, Spain', 'global_code': '8CGRC7CX+24'}, 'rating': 3.9, 'reference': 'ChIJ23lxcIcoQg0RsYuwYsH5ycc', 'scope': 'GOOGLE', 'types': ['clothing_store', 'shoe_store', 'store', 'point_of_interest', 'establishment'], 'user_ratings_total': 3296, 'vicinity': 'Gran Vía, 25, Madrid'}, {'business_status': 'OPERATIONAL', 'geometry': {'location': {'lat': 40.4271586, 'lng': -3.6861716}, 'viewport': {'northeast': {'lat': 40.42853933029151, 'lng': -3.684885519708498}, 'southwest': {'lat': 40.42584136970851, 'lng': -3.687583480291502}}}, 'icon': 'https://maps.gstatic.com/mapfiles/place_api/icons/v1/png_71/shopping-71.png', 'icon_background_color': '#4B96F3', 'icon_mask_base_uri': 'https://maps.gstatic.com/mapfiles/place_api/icons/v2/shopping_pinlet', 'name': 'Bimba y Lola', 'opening_hours': {'open_now': True}, 'photos': [{'height': 4032, 'html_attributions': ['<a href=\"https://maps.google.com/maps/contrib/114806663257198021643\">Victor GM</a>'], 'photo_reference': 'AWYs27xzPTKZ1CLeTJBkSIPdFbk0lxSGMaDeiv5W5DKXZ_2tIhoI0J7RgxrE4b2TP3yN2qcddrLQYNaSY-3XODMK6kTN1-YBsOSgUVW4mQCgyhThzMTakM0ncNPeHS6cyOAyWQnFarogjCDqimKOYiLXxXuTRBp4XtMqbpcWab6z6wCVN4WU', 'width': 2268}], 'place_id': 'ChIJrbe165YoQg0RF0wgUU6gFyM', 'plus_code': {'compound_code': 'C8G7+VG Madrid, Spain', 'global_code': '8CGRC8G7+VG'}, 'rating': 3.8, 'reference': 'ChIJrbe165YoQg0RF0wgUU6gFyM', 'scope': 'GOOGLE', 'types': ['clothing_store', 'shoe_store', 'jewelry_store', 'store', 'point_of_interest', 'establishment'], 'user_ratings_total': 138, 'vicinity': 'Calle de Claudio Coello, 48, Madrid'}, {'business_status': 'OPERATIONAL', 'geometry': {'location': {'lat': 40.41504559999999, 'lng': -3.7031054}, 'viewport': {'northeast': {'lat': 40.4161746302915, 'lng': -3.701881919708498}, 'southwest': {'lat': 40.4134766697085, 'lng': -3.704579880291502}}}, 'icon': 'https://maps.gstatic.com/mapfiles/place_api/icons/v1/png_71/shopping-71.png', 'icon_background_color': '#4B96F3', 'icon_mask_base_uri': 'https://maps.gstatic.com/mapfiles/place_api/icons/v2/shopping_pinlet', 'name': 'Calzedonia', 'opening_hours': {'open_now': True}, 'photos': [{'height': 4000, 'html_attributions': ['<a href=\"https://maps.google.com/maps/contrib/114118451392288609524\">Pako Valera</a>'], 'photo_reference': 'AWYs27yK9-po6_3s_tl0bM0Q8M9du-mA1HCYYeqiW1bkxkc2LfcdHbi70mbA41RDQ4nlZi9bm_Msid3oNL9Bndg8QFlLMFoQ6AFa9aF62eeepcCx_6cxEYxaS_ytMSs9hO07puhAzMKb8ihbLrMFQlXsf7ABJh_5lv_NaTo_Va42_vsJVQVl', 'width': 2252}], 'place_id': 'ChIJvTOv1n8oQg0RHkOl2nNuw60', 'plus_code': {'compound_code': 'C78W+2Q Madrid, Spain', 'global_code': '8CGRC78W+2Q'}, 'rating': 3.7, 'reference': 'ChIJvTOv1n8oQg0RHkOl2nNuw60', 'scope': 'GOOGLE', 'types': ['clothing_store', 'store', 'point_of_interest', 'establishment'], 'user_ratings_total': 45, 'vicinity': 'Calle de Carretas, 23, Madrid'}]\n",
      "Here are some clothing stores you might be interested in: Posada Del Dragón is a clothing_store located at Calle de la Cava Baja. It has a rating of 4.3 based on 1168 user reviews. ABC Serrano Commercial Center is a shopping_mall located at Calle de Serrano. It has a rating of 3.9 based on 9665 user reviews.\n"
     ]
    }
   ],
   "source": [
    "user_id = \"user1234\"\n",
    "user_input = \"I need buy one t-shirt women\"\n",
    "output = provide_user_specific_recommendations(user_input, user_id)\n",
    "print(output)\n"
   ]
  }
 ],
 "metadata": {
  "kernelspec": {
   "display_name": "Python 3",
   "language": "python",
   "name": "python3"
  },
  "language_info": {
   "codemirror_mode": {
    "name": "ipython",
    "version": 3
   },
   "file_extension": ".py",
   "mimetype": "text/x-python",
   "name": "python",
   "nbconvert_exporter": "python",
   "pygments_lexer": "ipython3",
   "version": "3.12.4"
  }
 },
 "nbformat": 4,
 "nbformat_minor": 4
}
