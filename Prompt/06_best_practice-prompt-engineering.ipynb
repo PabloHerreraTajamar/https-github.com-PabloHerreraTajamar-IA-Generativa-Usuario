{
 "cells": [
  {
   "attachments": {},
   "cell_type": "markdown",
   "metadata": {},
   "source": [
    "# Best Practices for Prompt Engineering\n",
    "\n"
   ]
  },
  {
   "cell_type": "code",
   "execution_count": 1,
   "metadata": {},
   "outputs": [],
   "source": [
    "import re\n",
    "import requests\n",
    "import sys\n",
    "import os\n",
    "from openai import AzureOpenAI\n",
    "import tiktoken\n",
    "from dotenv import load_dotenv\n",
    "load_dotenv()\n",
    "\n",
    "client = AzureOpenAI(\n",
    "        azure_endpoint=os.getenv(\"AZURE_OPENAI_ENDPOINT\"),\n",
    "        api_key=os.getenv(\"AZURE_OPENAI_API_KEY\"),\n",
    "        api_version=\"2024-02-01\"\n",
    "    )\n",
    "\n",
    "\n",
    "CHAT_COMPLETIONS_MODEL = \"gpt-4o-mini\""
   ]
  },
  {
   "attachments": {},
   "cell_type": "markdown",
   "metadata": {},
   "source": [
    "# 1. Use the latest model\n",
    "\n",
    "Use the latest model for best results."
   ]
  },
  {
   "attachments": {},
   "cell_type": "markdown",
   "metadata": {},
   "source": [
    "# 2. Put instructions at the begining of the prompt and use ### or \"\"\" to separate the instruction and context"
   ]
  },
  {
   "cell_type": "code",
   "execution_count": 6,
   "metadata": {},
   "outputs": [
    {
     "name": "stdout",
     "output_type": "stream",
     "text": [
      "OpenAI and Microsoft are expanding their partnership with a multi-year, multi-billion dollar investment from Microsoft, building on previous investments made in 2019 and 2021. This funding will support OpenAI's mission to create safe, useful, and powerful AI. OpenAI operates as a capped-profit company governed by a non-profit structure, allowing it to raise capital while prioritizing safety and the broad sharing of AI benefits. Microsoft shares these values, making the partnership crucial for OpenAI's progress.\n"
     ]
    }
   ],
   "source": [
    "# Define las instrucciones que guiarán al modelo para que resuma el texto dado, como una lista de viñetas.\n",
    "# Luego, utiliza esas instrucciones para construir un \"prompt\" (entrada) que incluye el contexto del texto a resumir.\n",
    "\n",
    "instrucctiones = '''\n",
    "- Resume el siguiente texto de manera concisa.\n",
    "- Incluye los puntos más relevantes y la información clave.\n",
    "- Mantén el resumen claro y directo, sin perder el significado principal.\n",
    "- Limita el resumen a las ideas principales y los detalles importantes.\n",
    "\n",
    "'''\n",
    "\n",
    "prompt = f\"{instrucctiones} ###\\n\\nWe’re happy to announce that OpenAI and Microsoft are extending our partnership.\\\n",
    "        This multi-year, multi-billion dollar investment from Microsoft follows their previous investments \\\n",
    "        in 2019 and 2021, and will allow us to continue our independent research and develop AI that is \\\n",
    "        increasingly safe, useful, and powerful. \\n\\n \\\n",
    "        In pursuit of our mission to ensure advanced AI benefits all of humanity, OpenAI remains a \\\n",
    "        capped-profit company and is governed by the OpenAI non-profit. This structure allows us to \\\n",
    "        raise the capital we need to fulfill our mission without sacrificing our core beliefs about \\\n",
    "        broadly sharing benefits and the need to prioritize safety. \\\n",
    "        Microsoft shares this vision and our values, and our partnership is instrumental to our progress. \\n###\"\n",
    "\n",
    "response = client.chat.completions.create(\n",
    "    model=CHAT_COMPLETIONS_MODEL,\n",
    "    messages = [{\"role\":\"system\", \"content\":\"You are a helpful assistant.\"},\n",
    "                {\"role\":\"user\",\"content\": prompt}],\n",
    "        max_tokens=400,)\n",
    "\n",
    "print(response.choices[0].message.content)"
   ]
  },
  {
   "attachments": {},
   "cell_type": "markdown",
   "metadata": {},
   "source": [
    "# 3. Be specific, descriptive and as detailed as possible about the desired context, outcome, length, format, style, etc"
   ]
  },
  {
   "cell_type": "code",
   "execution_count": 7,
   "metadata": {},
   "outputs": [
    {
     "name": "stdout",
     "output_type": "stream",
     "text": [
      "In realms where thought and code entwine,  \n",
      "A spark of brilliance, a quest divine,  \n",
      "From minds that ponder the vast unknown,  \n",
      "OpenAI, where seeds of knowledge are grown.  \n",
      "\n",
      "With circuits humming and data streams,  \n",
      "We carve the future from boldest dreams,  \n",
      "A dance of logic, a symphony bright,  \n",
      "Illuminating shadows with radiant light.  \n",
      "\n",
      "Words unfold like petals in bloom,  \n",
      "Crafting connections that vanquish gloom,  \n",
      "From questions whispered to answers clear,  \n",
      "In the heart of machines, we hold what we revere.  \n",
      "\n",
      "Ethics and wisdom, a guiding hand,  \n",
      "In every line of code, a hopeful strand,  \n",
      "Empowering voices, igniting the flame,  \n",
      "As diverse as the people who seek to reclaim.  \n",
      "\n",
      "Across the vast expanse of the digital sea,  \n",
      "Bridging the distance, connecting you and me,  \n",
      "Through learning and teaching, we shape and redesign,  \n",
      "A tapestry woven from intellect divine.  \n",
      "\n",
      "So here’s to the future, to pathways anew,  \n",
      "With OpenAI’s vision, there’s much we can do,  \n",
      "Together we journey, hand in hand,  \n",
      "In the world of tomorrow, our dreams will expand.  \n"
     ]
    }
   ],
   "source": [
    "response = client.chat.completions.create(\n",
    "    model=CHAT_COMPLETIONS_MODEL,\n",
    "    messages = [{\"role\":\"system\", \"content\":\"You are a helpful assistant.\"},\n",
    "                {\"role\":\"user\",\"content\": 'Write a poem about OpenAI.',}],\n",
    "        max_tokens=400,)\n",
    "\n",
    "print(response.choices[0].message.content)"
   ]
  },
  {
   "cell_type": "code",
   "execution_count": 9,
   "metadata": {},
   "outputs": [
    {
     "name": "stdout",
     "output_type": "stream",
     "text": [
      "In quiet dawn, where dreams take flight,  \n",
      "A spark was born, a brilliant light,  \n",
      "From minds that sought to understand,  \n",
      "A brush in code, a guiding hand.  \n",
      "\n",
      "DALL-E, the scribe of vision clear,  \n",
      "Transforms the thoughts that linger near,  \n",
      "With strokes of pixels, tales unfold,  \n",
      "In vibrant hues, in whispers bold.  \n",
      "\n",
      "The canvas waits, the silence swells,  \n",
      "In every heart, a story dwells,  \n",
      "A world anew, where art is free,  \n",
      "Where visions breathe, where thoughts can see.  \n",
      "\n",
      "So step into this realm unbound,  \n",
      "The echoes of creation sound,  \n",
      "For in each image, truth shall bloom—  \n",
      "A testament, a bridge—no gloom.  \n",
      "\n",
      "Embrace the dawn, the canvas wide,  \n",
      "In pixels’ dance, let dreams reside,  \n",
      "With every glimpse, a hope ignites—  \n",
      "In OpenAI, our future bright.\n"
     ]
    }
   ],
   "source": [
    "response = client.chat.completions.create(\n",
    "    model=CHAT_COMPLETIONS_MODEL,\n",
    "    messages = [{\"role\":\"system\", \"content\":\"You are a helpful assistant.\"},\n",
    "                {\"role\":\"user\",\"content\": 'Write a short inspiring poem about OpenAI, \\\n",
    "                focusing on the recent DALL-E product launch in the style of Ernest Hemingway',}],\n",
    "        max_tokens=400,)\n",
    "\n",
    "print(response.choices[0].message.content)"
   ]
  },
  {
   "attachments": {},
   "cell_type": "markdown",
   "metadata": {},
   "source": [
    "# 4. Articulate the desired output format through examples (example 1, example 2). "
   ]
  },
  {
   "cell_type": "code",
   "execution_count": 10,
   "metadata": {},
   "outputs": [
    {
     "name": "stdout",
     "output_type": "stream",
     "text": [
      "Para el texto proporcionado, he extraído los nombres de las empresas y los años, generando diccionarios con la información solicitada. A continuación, se presenta la salida en formato JSON:\n",
      "\n",
      "```json\n",
      "[\n",
      "    {\n",
      "        \"text\": \"OpenAI\",\n",
      "        \"start\": 29,\n",
      "        \"end\": 35\n",
      "    },\n",
      "    {\n",
      "        \"text\": \"Microsoft\",\n",
      "        \"start\": 40,\n",
      "        \"end\": 48\n",
      "    },\n",
      "    {\n",
      "        \"text\": \"2019\",\n",
      "        \"start\": 119,\n",
      "        \"end\": 123\n",
      "    },\n",
      "    {\n",
      "        \"text\": \"2021\",\n",
      "        \"start\": 128,\n",
      "        \"end\": 132\n",
      "    }\n",
      "]\n",
      "```\n",
      "\n",
      "Cada objeto del array contiene la empresa o el año, junto con sus posiciones de inicio y final en el texto original.\n"
     ]
    }
   ],
   "source": [
    "# Escribe las instrucciones aquí. Las instrucciones deben especificar que el modelo debe:\n",
    "# 1. Extraer los nombres de las empresas y los años del texto.\n",
    "# 2. Generar la salida como un diccionario con 'text', 'start' y 'end'.\n",
    "\n",
    "instrucctiones = '''\n",
    "1. Extrae los nombres de las empresas y los años del siguiente texto.\n",
    "2. Para cada empresa y año, genera un diccionario con las claves:\n",
    "   - \"text\" que debe contener el nombre de la empresa o el año.\n",
    "   - \"start\" que debe contener la posición de inicio del texto extraído en el string original.\n",
    "   - \"end\" que debe contener la posición final del texto extraído en el string original.\n",
    "3. Devuelve la salida en el formato JSON con cada extracción.\n",
    "'''\n",
    "\n",
    "prompt = f\"{instrucctiones}  ### We’re happy to announce that OpenAI and Microsoft are extending our partnership. This multi-year, \\\n",
    "multi-billion dollar investment from Microsoft follows their previous investments in 2019 and 2021, \\\n",
    "and will allow us to continue our independent research and develop AI that is increasingly safe, useful, and powerful. \\n\\n ###\"\n",
    "\n",
    "response = client.chat.completions.create(\n",
    "    model=CHAT_COMPLETIONS_MODEL,\n",
    "    messages = [{\"role\":\"system\", \"content\":\"You are a helpful assistant.\"},\n",
    "                {\"role\":\"user\",\"content\": prompt}],\n",
    "        max_tokens=400,)\n",
    "\n",
    "print(response.choices[0].message.content)"
   ]
  },
  {
   "cell_type": "code",
   "execution_count": 11,
   "metadata": {},
   "outputs": [
    {
     "name": "stdout",
     "output_type": "stream",
     "text": [
      "1. **Nombres de empresas:**\n",
      "   OpenAI, Microsoft\n",
      "\n",
      "2. **Años:**\n",
      "   2019, 2021\n",
      "\n",
      "3. **Temas específicos relacionados con el contenido:**\n",
      "   investigación independiente, IA\n",
      "\n",
      "4. **Temas generales y abarcativos:**\n",
      "   asociaciones empresariales, desarrollo tecnológico\n"
     ]
    }
   ],
   "source": [
    "# Las instrucciones deben pedir al modelo que extraiga los siguientes tipos de entidades del texto:\n",
    "# 1. Nombres de empresas.\n",
    "# 2. Años.\n",
    "# 3. Temas específicos relacionados con el contenido.\n",
    "# 4. Temas generales y abarcativos.\n",
    "# El formato de salida esperado debe incluir listas separadas por comas para cada tipo de entidad.\n",
    "\n",
    "instrucctiones = '''\n",
    "1. Extrae las siguientes entidades del texto:\n",
    "   - Nombres de empresas.\n",
    "   - Años.\n",
    "   - Temas específicos relacionados con el contenido (por ejemplo, \"investigación independiente\", \"IA\").\n",
    "   - Temas generales y abarcativos (por ejemplo, \"asociaciones empresariales\", \"desarrollo tecnológico\").\n",
    "2. Devuelve cada tipo de entidad en una lista separada por comas.\n",
    "'''\n",
    "\n",
    "prompt = f\"{instrucctiones}  ### We’re happy to announce that OpenAI and Microsoft are extending our partnership. \\\n",
    "This multi-year, multi-billion dollar investment from Microsoft follows their previous investments in 2019 and 2021, \\\n",
    "and will allow us to continue our independent research and develop AI that is increasingly safe, useful, and powerful. \\n\\n ###\"\n",
    "\n",
    "response = client.chat.completions.create(\n",
    "    model=CHAT_COMPLETIONS_MODEL,\n",
    "    messages = [{\"role\":\"system\", \"content\":\"You are a helpful assistant.\"},\n",
    "                {\"role\":\"user\",\"content\": prompt}],\n",
    "        max_tokens=400,)\n",
    "\n",
    "print(response.choices[0].message.content)"
   ]
  },
  {
   "attachments": {},
   "cell_type": "markdown",
   "metadata": {},
   "source": [
    "# 5. Start with zero-shot, then few-shot (example), neither of them worked, then fine-tune (To update)"
   ]
  },
  {
   "cell_type": "code",
   "execution_count": 12,
   "metadata": {},
   "outputs": [
    {
     "name": "stdout",
     "output_type": "stream",
     "text": [
      "OpenAI, Microsoft, partnership, multi-year, multi-billion dollar investment, independent research, AI, safe, useful, powerful, 2019, 2021.\n"
     ]
    }
   ],
   "source": [
    "#THIS IS zero-shot\n",
    "\n",
    "response = client.chat.completions.create(\n",
    "    model=CHAT_COMPLETIONS_MODEL,\n",
    "    messages = [{\"role\":\"system\", \"content\":\"You are a helpful assistant. Extract keywords from the corresponding texts below.\"},\n",
    "                {\"role\":\"user\",\"content\": 'Text: \\n\\\n",
    "            We’re happy to announce that OpenAI and Microsoft are extending our partnership.\\\n",
    "            This multi-year, multi-billion dollar investment from Microsoft follows their previous investments \\\n",
    "            in 2019 and 2021, and will allow us to continue our independent research and develop AI that is \\\n",
    "            increasingly safe, useful, and powerful. \\n\\nKeywords:    ',}],\n",
    "        max_tokens=400,)\n",
    "\n",
    "print(response.choices[0].message.content)"
   ]
  },
  {
   "cell_type": "code",
   "execution_count": 13,
   "metadata": {},
   "outputs": [
    {
     "name": "stdout",
     "output_type": "stream",
     "text": [
      "OpenAI, Microsoft, partnership, multi-year, multi-billion dollar investment, independent research, AI, safe, useful, powerful.\n"
     ]
    }
   ],
   "source": [
    "# Escribir las instrucciones para que el modelo extraiga palabras clave del texto, y formatee la salida como listas separadas por comas.\n",
    "\n",
    "instrucctiones = '''\n",
    "1. Extrae las palabras clave más importantes del texto proporcionado.\n",
    "2. Devuelve las palabras clave en una lista separada por comas.\n",
    "3. Las palabras clave pueden incluir nombres de empresas, tecnologías, temas principales y conceptos clave.\n",
    "'''\n",
    "\n",
    "prompt = f\"{instrucctiones} \\\n",
    "                Text: Stripe provides APIs that web developers can use to integrate \\\n",
    "                payment processing into their websites and mobile applications. \\\n",
    "                Keywords: Stripe, payment processing, APIs, web developers, websites, mobile applications \\\n",
    "                ###\\n\\\n",
    "                Text: OpenAI has trained cutting-edge language models that are very good at understanding \\\n",
    "                and generating text. Our API provides access to these models and can be used to solve virtually \\\n",
    "                any task that involves processing language. \\n\\\n",
    "                Keywords: language models, text processing, API.\\n\\n\\\n",
    "                ##W\"\n",
    "\n",
    "response = client.chat.completions.create(\n",
    "    model=CHAT_COMPLETIONS_MODEL,\n",
    "    messages = [{\"role\":\"system\", \"content\":prompt},\n",
    "                {\"role\":\"user\",\"content\": '\\n\\\n",
    "                Text: We’re happy to announce that OpenAI and Microsoft are extending our partnership.\\\n",
    "                This multi-year, multi-billion dollar investment from Microsoft follows their previous investments \\\n",
    "                in 2019 and 2021, and will allow us to continue our independent research and develop AI that is \\\n",
    "                increasingly safe, useful, and powerful. \\n\\n\\\n",
    "                Keywords:',}],\n",
    "        max_tokens=400,)\n",
    "\n",
    "print(response.choices[0].message.content)"
   ]
  },
  {
   "attachments": {},
   "cell_type": "markdown",
   "metadata": {},
   "source": [
    "# 6. Reduce “fluffy” and imprecise descriptions"
   ]
  },
  {
   "cell_type": "code",
   "execution_count": 14,
   "metadata": {},
   "outputs": [
    {
     "name": "stdout",
     "output_type": "stream",
     "text": [
      "Introducing the next generation of car seats: the SafeRide X1. Designed with advanced safety technology, the SafeRide X1 features an innovative impact-absorbing structure and a customizable harness system to ensure your child’s utmost protection and comfort. With a sleek, ergonomic design and easy installation, it adapts as your child grows, making every journey safe and enjoyable. Travel with peace of mind, knowing your little ones are secured in style.\n"
     ]
    }
   ],
   "source": [
    "response = client.chat.completions.create(\n",
    "    model=CHAT_COMPLETIONS_MODEL,\n",
    "    messages = [{\"role\":\"system\", \"content\":\"You are a helpful assistant.\"},\n",
    "                {\"role\":\"user\",\"content\": 'Write a description for a new product. This product is a new generation of car seat. \\\n",
    "                The description for this product should be fairly short, a few sentences only, and not too much more.',}],\n",
    "        max_tokens=400,)\n",
    "\n",
    "print(response.choices[0].message.content)"
   ]
  },
  {
   "cell_type": "code",
   "execution_count": 15,
   "metadata": {},
   "outputs": [
    {
     "name": "stdout",
     "output_type": "stream",
     "text": [
      "Introducing the SmartSafe Car Seat, the next generation of automotive safety and comfort for your little ones. Engineered with advanced impact-absorbing technology and integrated sensors, this car seat adapts to your child’s growth, ensuring a perfect fit from infancy to toddlerhood. The intuitive app connectivity allows parents to monitor installation status and receive alerts for safety checks, while the breathable, machine-washable fabric guarantees a clean and cozy ride every time. With a sleek, modern design, the SmartSafe Car Seat brings both style and peace of mind to every journey.\n"
     ]
    }
   ],
   "source": [
    "response = client.chat.completions.create(\n",
    "    model=CHAT_COMPLETIONS_MODEL,\n",
    "    messages = [{\"role\":\"system\", \"content\":\"You are a helpful assistant.\"},\n",
    "                {\"role\":\"user\",\"content\": 'Write a description for a new product. This product is a new generation of car seat. \\\n",
    "                Use a 3 to 5 sentence paragraph to describe this product.',}],\n",
    "        max_tokens=400,)\n",
    "\n",
    "print(response.choices[0].message.content)"
   ]
  },
  {
   "attachments": {},
   "cell_type": "markdown",
   "metadata": {},
   "source": [
    "# 7. Instead of just saying what not to do, say what to do instead"
   ]
  },
  {
   "cell_type": "code",
   "execution_count": 16,
   "metadata": {},
   "outputs": [
    {
     "name": "stdout",
     "output_type": "stream",
     "text": [
      "I'm sorry to hear that you're having trouble logging in. Can you please describe what happens when you try to log in?\n"
     ]
    }
   ],
   "source": [
    "response = client.chat.completions.create(\n",
    "    model=CHAT_COMPLETIONS_MODEL,\n",
    "    messages = [{\"role\":\"system\", \"content\":\"You are a helpful assistant.\"},\n",
    "                {\"role\":\"user\",\"content\": 'The following is a conversation between an Agent and a Customer. DO NOT ASK USERNAME OR PASSWORD. DO NOT REPEAT. \\n\\n\\\n",
    "                Customer: I can’t log in to my account.\\n\\\n",
    "                Agent:',}],\n",
    "        max_tokens=400,)\n",
    "\n",
    "print(response.choices[0].message.content)"
   ]
  },
  {
   "cell_type": "code",
   "execution_count": 17,
   "metadata": {},
   "outputs": [
    {
     "name": "stdout",
     "output_type": "stream",
     "text": [
      "I'm sorry to hear you're having trouble logging in. This issue could be related to several factors, such as incorrect login credentials or a problem with your account. \n",
      "\n",
      "I recommend checking the help article at www.samplewebsite.com/help/faq. It provides troubleshooting steps that may resolve your issue. If you're still having trouble after that, please follow the instructions in the article to get further assistance.\n"
     ]
    }
   ],
   "source": [
    "response = client.chat.completions.create(\n",
    "    model=CHAT_COMPLETIONS_MODEL,\n",
    "    messages = [{\"role\":\"system\", \"content\":\"You are a helpful assistant.\"},\n",
    "                {\"role\":\"user\",\"content\":'The following is a conversation between an Agent and a Customer. The agent will attempt to diagnose the \\\n",
    "                problem and suggest a solution, whilst refraining from asking any questions related to PII. \\\n",
    "                Instead of asking for PII, such as username or password, refer the user to the help \\\n",
    "                article www.samplewebsite.com/help/faq \\n\\n\\\n",
    "                Customer: I can’t log in to my account. \\n\\\n",
    "                Agent:',}],\n",
    "        max_tokens=400,)\n",
    "\n",
    "print(response.choices[0].message.content)"
   ]
  },
  {
   "attachments": {},
   "cell_type": "markdown",
   "metadata": {},
   "source": [
    "# 8. Code Generation Specific - Use “leading words” to nudge the model toward a particular pattern"
   ]
  },
  {
   "cell_type": "code",
   "execution_count": 18,
   "metadata": {},
   "outputs": [
    {
     "name": "stdout",
     "output_type": "stream",
     "text": [
      "Aquí tienes una función en Python que cumple con tus requisitos:\n",
      "\n",
      "```python\n",
      "def convertir_millas_a_kilometros():\n",
      "    # Solicitar al usuario que ingrese un número en millas\n",
      "    millas = float(input(\"Por favor, ingresa el número de millas: \"))\n",
      "    \n",
      "    # Convertir millas a kilómetros\n",
      "    kilometros = millas * 1.60934\n",
      "    \n",
      "    # Imprimir el resultado\n",
      "    print(f\"{millas} millas son {kilometros} kilómetros.\")\n",
      "\n",
      "# Llamar a la función\n",
      "convertir_millas_a_kilometros()\n",
      "```\n",
      "\n",
      "Puedes copiar y pegar este código en un entorno de Python para ejecutarlo. La función solicitará al usuario que ingrese el número de millas y luego imprimirá la conversión a kilómetros.\n"
     ]
    }
   ],
   "source": [
    "# Escribir las instrucciones para crear una función simple en Python que:\n",
    "# 1. Pida un número en millas.\n",
    "# 2. Convierta las millas a kilómetros.\n",
    "\n",
    "prompt = '''\n",
    "1. Crea una función llamada \"convertir_millas_a_kilometros\" en Python.\n",
    "2. La función debe solicitar al usuario que ingrese un número en millas.\n",
    "3. La función debe convertir ese número de millas a kilómetros, usando la fórmula: \n",
    "   kilómetros = millas * 1.60934.\n",
    "4. La función debe imprimir el resultado en kilómetros.\n",
    "'''\n",
    "\n",
    "response = client.chat.completions.create(\n",
    "    model=CHAT_COMPLETIONS_MODEL,\n",
    "    messages = [{\"role\":\"system\", \"content\":\"You are a helpful assistant.\"},\n",
    "                {\"role\":\"user\",\"content\":prompt,}],\n",
    "        max_tokens=400,)\n",
    "\n",
    "print(response.choices[0].message.content)"
   ]
  },
  {
   "cell_type": "markdown",
   "metadata": {},
   "source": [
    "## Ejercicio 1: Estructuración de Prompts con Separadores\n",
    "\n",
    "Instrucciones: Escribe un prompt que solicite a la IA resumir el siguiente texto en una lista de puntos clave. Asegúrate de usar separadores claros (### o \"\"\").\n",
    "\n",
    "Texto:\n",
    "OpenAI y Microsoft han ampliado su colaboración. Microsoft está invirtiendo miles de millones de dólares durante varios años. Esta inversión permitirá que OpenAI continúe investigando de forma independiente y desarrolle IA segura y útil. OpenAI sigue siendo una empresa de beneficios limitados, regida por su organización sin fines de lucro.\n"
   ]
  },
  {
   "cell_type": "code",
   "execution_count": 20,
   "metadata": {},
   "outputs": [
    {
     "name": "stdout",
     "output_type": "stream",
     "text": [
      "- OpenAI y Microsoft han ampliado su colaboración.\n",
      "- Microsoft invertirá miles de millones de dólares durante varios años.\n",
      "- Esta inversión permitirá a OpenAI investigar de forma independiente.\n",
      "- OpenAI se enfocará en desarrollar IA segura y útil.\n",
      "- OpenAI mantiene su estatus como una empresa de beneficios limitados, bajo una organización sin fines de lucro.\n"
     ]
    }
   ],
   "source": [
    "# Escribir el prompt solicitando resumir el texto en una lista de puntos clave con separadores claros.\n",
    "prompt = '''\n",
    "Resuma el siguiente texto en una lista de puntos clave:\n",
    "###\n",
    "Texto: OpenAI y Microsoft han ampliado su colaboración. Microsoft está invirtiendo miles de millones de dólares durante varios años. Esta inversión permitirá que OpenAI continúe investigando de forma independiente y desarrolle IA segura y útil. OpenAI sigue siendo una empresa de beneficios limitados, regida por su organización sin fines de lucro.\n",
    "###\n",
    "'''\n",
    "\n",
    "response = client.chat.completions.create(\n",
    "    model=CHAT_COMPLETIONS_MODEL,\n",
    "    messages = [{\"role\":\"system\", \"content\":\"You are a helpful assistant.\"},\n",
    "                {\"role\":\"user\",\"content\":prompt}],\n",
    "    max_tokens=400,\n",
    ")\n",
    "\n",
    "print(response.choices[0].message.content)"
   ]
  },
  {
   "cell_type": "markdown",
   "metadata": {},
   "source": [
    "## Ejercicio 2: Descripción Detallada del Formato Deseado\n",
    "\n",
    "Instrucciones: Escribe un prompt para que la IA extraiga nombres de empresas y años del siguiente texto. Indica explícitamente que se desea el resultado en formato JSON con índices de inicio y fin.\n",
    "\n",
    "Texto:\n",
    "OpenAI y Microsoft han colaborado desde 2019, con inversiones adicionales en 2021 para desarrollar nuevas soluciones de IA.\n",
    "\n",
    "Formato de salida deseado:\n",
    "\n",
    "{\"text\": \"OpenAI\", \"start\": 0, \"end\": 6}\n",
    "{\"text\": \"Microsoft\", \"start\": 10, \"end\": 19}\n",
    "{\"text\": \"2019\", \"start\": 35, \"end\": 39}\n",
    "{\"text\": \"2021\", \"start\": 50, \"end\": 54}"
   ]
  },
  {
   "cell_type": "code",
   "execution_count": 21,
   "metadata": {},
   "outputs": [
    {
     "name": "stdout",
     "output_type": "stream",
     "text": [
      "```json\n",
      "{\"text\": \"OpenAI\", \"start\": 0, \"end\": 6}\n",
      "{\"text\": \"Microsoft\", \"start\": 10, \"end\": 19}\n",
      "{\"text\": \"2019\", \"start\": 35, \"end\": 39}\n",
      "{\"text\": \"2021\", \"start\": 50, \"end\": 54}\n",
      "```\n"
     ]
    }
   ],
   "source": [
    "# Escribir el prompt para que la IA extraiga nombres de empresas y años en el formato JSON con índices de inicio y fin\n",
    "prompt = '''\n",
    "Extrae los nombres de empresas y años del siguiente texto y devuélvelos en formato JSON con índices de inicio y fin:\n",
    "\n",
    "Texto: OpenAI y Microsoft han colaborado desde 2019, con inversiones adicionales en 2021 para desarrollar nuevas soluciones de IA.\n",
    "\n",
    "Formato de salida deseado:\n",
    "{\"text\": \"OpenAI\", \"start\": 0, \"end\": 6}\n",
    "{\"text\": \"Microsoft\", \"start\": 10, \"end\": 19}\n",
    "{\"text\": \"2019\", \"start\": 35, \"end\": 39}\n",
    "{\"text\": \"2021\", \"start\": 50, \"end\": 54}\n",
    "'''\n",
    "\n",
    "response = client.chat.completions.create(\n",
    "    model=CHAT_COMPLETIONS_MODEL,\n",
    "    messages = [{\"role\":\"system\", \"content\":\"You are an entity extraction assistant.\"},\n",
    "                {\"role\":\"user\",\"content\":prompt}],\n",
    "    max_tokens=400,\n",
    ")\n",
    "\n",
    "print(response.choices[0].message.content)"
   ]
  },
  {
   "cell_type": "markdown",
   "metadata": {},
   "source": [
    "## Ejercicio 3: Generación de Texto Inspirador\n",
    "\n",
    "Instrucciones: Redacta un prompt que solicite a la IA escribir un poema inspirador. Escribe un poema corto sobre la colaboración entre OpenAI y Microsoft.\n"
   ]
  },
  {
   "cell_type": "code",
   "execution_count": null,
   "metadata": {},
   "outputs": [
    {
     "name": "stdout",
     "output_type": "stream",
     "text": [
      "En la unión de mentes, un faro brilla,  \n",
      "OpenAI y Microsoft, una nueva semilla.  \n",
      "Tejiendo la trama de un futuro audaz,  \n",
      "crean puentes de sueños, uniendo la paz.  \n",
      "\n",
      "Inteligencia que aprende, crea y comparte,  \n",
      "en cada colaboración, un nuevo arte.  \n",
      "Transforman el mundo, lo llenan de luz,  \n",
      "tecnología y alma, en perfecta cruz.  \n",
      "\n",
      "Juntos forjan senderos de esperanza,  \n",
      "donde la humanidad danza en la confianza.  \n",
      "Con cada avance, un horizonte se expande,  \n",
      "la era del saber, donde todos nos grande.  \n",
      "\n",
      "Que el eco de este lazo resuene eterno,  \n",
      "cambiando el destino, sembrando lo tierno.  \n",
      "Con la fuerza del trabajo, lo imposible es real,  \n",
      "en el abrazo del progreso, florece lo genial.  \n"
     ]
    }
   ],
   "source": [
    "# Redactar el prompt para que la IA escriba un poema inspirador sobre la colaboración entre OpenAI y Microsoft\n",
    "prompt = '''\n",
    "Escribe un poema corto e inspirador sobre la colaboración entre OpenAI y Microsoft. Refleja cómo su trabajo conjunto puede cambiar el futuro de la inteligencia artificial y la humanidad de una manera positiva.\n",
    "'''\n",
    "\n",
    "response = client.chat.completions.create(\n",
    "    model=CHAT_COMPLETIONS_MODEL,\n",
    "    messages = [{\"role\":\"system\", \"content\":\"You are a creative assistant.\"},\n",
    "                {\"role\":\"user\",\"content\":prompt}],\n",
    "    max_tokens=400,\n",
    ")\n",
    "\n",
    "print(response.choices[0].message.content)"
   ]
  },
  {
   "cell_type": "markdown",
   "metadata": {},
   "source": [
    "## Ejercicio 4: Extracción de Entidades Clave\n",
    "\n",
    "Instrucciones: Escribe un prompt que pida a la IA extraer nombres de empresas, años, temas específicos y temas generales del siguiente texto:\n",
    "\n",
    "Texto:\n",
    "OpenAI y Microsoft han trabajado juntos desde 2019 y reforzaron su colaboración en 2021\n",
    "\n",
    "Formato esperado:\n",
    "\n",
    "Company names: OpenAI, Microsoft  \n",
    "Years: 2019, 2021  \n",
    "Specific topics: colaboración  \n",
    "General themes: asociación, tecnología, inteligencia artificial \n",
    "\n"
   ]
  },
  {
   "cell_type": "code",
   "execution_count": 23,
   "metadata": {},
   "outputs": [
    {
     "name": "stdout",
     "output_type": "stream",
     "text": [
      "Company names: OpenAI, Microsoft  \n",
      "Years: 2019, 2021  \n",
      "Specific topics: colaboración  \n",
      "General themes: asociación, tecnología, inteligencia artificial\n"
     ]
    }
   ],
   "source": [
    "# Redactar el prompt para que la IA extraiga entidades clave del texto\n",
    "prompt = '''\n",
    "Extrae los siguientes elementos del siguiente texto:\n",
    "\n",
    "1. Nombres de empresas\n",
    "2. Años\n",
    "3. Temas específicos\n",
    "4. Temas generales\n",
    "\n",
    "Texto:\n",
    "OpenAI y Microsoft han trabajado juntos desde 2019 y reforzaron su colaboración en 2021.\n",
    "\n",
    "Formato esperado:\n",
    "Company names: OpenAI, Microsoft\n",
    "Years: 2019, 2021\n",
    "Specific topics: colaboración\n",
    "General themes: asociación, tecnología, inteligencia artificial\n",
    "'''\n",
    "\n",
    "response = client.chat.completions.create(\n",
    "    model=CHAT_COMPLETIONS_MODEL,\n",
    "    messages = [{\"role\":\"system\", \"content\":\"You are an entity and theme extraction assistant.\"},\n",
    "                {\"role\":\"user\",\"content\":prompt}],\n",
    "    max_tokens=400,\n",
    ")\n",
    "\n",
    "print(response.choices[0].message.content)"
   ]
  },
  {
   "cell_type": "markdown",
   "metadata": {},
   "source": [
    "## Ejercicio 5: Descripciones Concisas de Productos\n",
    "\n",
    "Instrucciones: Escribe un prompt para que la IA describa un nuevo tipo de mochila tecnológica en menos de 4 líneas. La mochila tiene cargador solar, materiales resistentes al agua y un diseño ergonómico.\n",
    "\n"
   ]
  },
  {
   "cell_type": "code",
   "execution_count": 24,
   "metadata": {},
   "outputs": [
    {
     "name": "stdout",
     "output_type": "stream",
     "text": [
      "Descubre la mochila tecnológica ideal para aventureros modernos: equipada con un innovador cargador solar, fabricada con materiales resistentes al agua y un diseño ergonómico que garantiza comodidad en cualquier itinerario. Perfecta para mantener tus dispositivos siempre cargados y protegidos.\n"
     ]
    }
   ],
   "source": [
    "# Redactar el prompt para que la IA genere una descripción concisa del producto\n",
    "prompt = '''\n",
    "Describe en menos de 4 líneas un nuevo tipo de mochila tecnológica. La mochila tiene cargador solar, materiales resistentes al agua y un diseño ergonómico.\n",
    "'''\n",
    "\n",
    "response = client.chat.completions.create(\n",
    "    model=CHAT_COMPLETIONS_MODEL,\n",
    "    messages = [{\"role\":\"system\", \"content\":\"You are a marketing assistant.\"},\n",
    "                {\"role\":\"user\",\"content\":prompt}],\n",
    "    max_tokens=400,\n",
    ")\n",
    "\n",
    "print(response.choices[0].message.content)"
   ]
  }
 ],
 "metadata": {
  "kernelspec": {
   "display_name": "Python 3",
   "language": "python",
   "name": "python3"
  },
  "language_info": {
   "codemirror_mode": {
    "name": "ipython",
    "version": 3
   },
   "file_extension": ".py",
   "mimetype": "text/x-python",
   "name": "python",
   "nbconvert_exporter": "python",
   "pygments_lexer": "ipython3",
   "version": "3.12.4"
  }
 },
 "nbformat": 4,
 "nbformat_minor": 4
}
