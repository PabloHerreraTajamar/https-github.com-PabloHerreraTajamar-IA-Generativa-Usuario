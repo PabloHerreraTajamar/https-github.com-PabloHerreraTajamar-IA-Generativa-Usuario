{
 "cells": [
  {
   "cell_type": "markdown",
   "metadata": {},
   "source": [
    "# Carga del modelo que usaremos para hacer los prompts de los ejercicios"
   ]
  },
  {
   "cell_type": "code",
   "execution_count": 4,
   "metadata": {},
   "outputs": [
    {
     "name": "stdout",
     "output_type": "stream",
     "text": [
      "Requirement already satisfied: python-dotenv in c:\\users\\alumno_ai\\appdata\\local\\programs\\python\\python312\\lib\\site-packages (1.0.1)\n"
     ]
    },
    {
     "name": "stderr",
     "output_type": "stream",
     "text": [
      "\n",
      "[notice] A new release of pip is available: 24.0 -> 24.3.1\n",
      "[notice] To update, run: python.exe -m pip install --upgrade pip\n"
     ]
    }
   ],
   "source": [
    "! pip install python-dotenv"
   ]
  },
  {
   "cell_type": "code",
   "execution_count": 11,
   "metadata": {},
   "outputs": [
    {
     "data": {
      "text/plain": [
       "True"
      ]
     },
     "execution_count": 11,
     "metadata": {},
     "output_type": "execute_result"
    }
   ],
   "source": [
    "import os\n",
    "import openai\n",
    "import dotenv\n",
    "\n",
    "dotenv.load_dotenv()"
   ]
  },
  {
   "cell_type": "code",
   "execution_count": 12,
   "metadata": {},
   "outputs": [],
   "source": [
    "use_azure_active_directory = False  # Set this flag to True if you are using Azure Active Directory"
   ]
  },
  {
   "cell_type": "code",
   "execution_count": 13,
   "metadata": {},
   "outputs": [],
   "source": [
    "from openai import AzureOpenAI\n",
    "\n",
    "if not use_azure_active_directory:\n",
    "    endpoint = os.environ[\"AZURE_OPENAI_ENDPOINT\"]\n",
    "    api_key = os.environ[\"AZURE_OPENAI_API_KEY\"]\n",
    "\n",
    "    client = AzureOpenAI(\n",
    "        azure_endpoint=os.getenv(\"AZURE_OPENAI_ENDPOINT\"),\n",
    "        api_key=os.getenv(\"AZURE_OPENAI_API_KEY\"),\n",
    "        api_version=\"2024-02-01\"\n",
    "    )"
   ]
  },
  {
   "cell_type": "code",
   "execution_count": 17,
   "metadata": {},
   "outputs": [],
   "source": [
    "deployment = \"gpt-4o-mini\" # Fill in the deployment name from the portal here"
   ]
  },
  {
   "cell_type": "markdown",
   "metadata": {},
   "source": [
    "# ❓ Exercise 1 - German Translation\n"
   ]
  },
  {
   "cell_type": "code",
   "execution_count": 20,
   "metadata": {},
   "outputs": [
    {
     "name": "stdout",
     "output_type": "stream",
     "text": [
      "assistant: Ich genoss die Sonne, aber dann kam eine riesige Wolke und bedeckte den Himmel.\n"
     ]
    }
   ],
   "source": [
    "# For all possible arguments see https://platform.openai.com/docs/api-reference/chat-completions/create\n",
    "response = client.chat.completions.create(\n",
    "    model=deployment,\n",
    "    messages=[\n",
    "        {\"role\": \"system\", \"content\": \"You are a german translator assistant\"},\n",
    "        {\"role\": \"user\", \"content\": \"I was enjoying the sun, but then a huge cloud came and covered the sky.\"},\n",
    "    ],\n",
    "    temperature=0,\n",
    ")\n",
    "\n",
    "print(f\"{response.choices[0].message.role}: {response.choices[0].message.content}\")"
   ]
  },
  {
   "cell_type": "markdown",
   "metadata": {},
   "source": [
    "# ❓ Exercise 2 - Negation"
   ]
  },
  {
   "cell_type": "code",
   "execution_count": 21,
   "metadata": {},
   "outputs": [
    {
     "name": "stdout",
     "output_type": "stream",
     "text": [
      "assistant: I was not enjoying the sun, but then a small cloud left the sky clear.\n"
     ]
    }
   ],
   "source": [
    "# For all possible arguments see https://platform.openai.com/docs/api-reference/chat-completions/create\n",
    "response = client.chat.completions.create(\n",
    "    model=deployment,\n",
    "    messages=[\n",
    "        {\"role\": \"system\", \"content\": \"You are an assistant that rewrites sentences by negating their meaning while keeping the structure as similar as possible. Always transform positive statements into negative ones and vice versa.\"},\n",
    "        {\"role\": \"user\", \"content\": \"I was enjoying the sun, but then a huge cloud came and covered the sky.\"},\n",
    "    ],\n",
    "    temperature=0,\n",
    ")\n",
    "\n",
    "print(f\"{response.choices[0].message.role}: {response.choices[0].message.content}\")"
   ]
  },
  {
   "cell_type": "markdown",
   "metadata": {},
   "source": [
    "# ❓ Exercise 3 - Classification"
   ]
  },
  {
   "cell_type": "code",
   "execution_count": null,
   "metadata": {},
   "outputs": [
    {
     "name": "stdout",
     "output_type": "stream",
     "text": [
      "assistant: Positive: 0.65, Neutral: 0.25, Negative: 0.10\n"
     ]
    }
   ],
   "source": [
    "# For all possible arguments see https://platform.openai.com/docs/api-reference/chat-completions/create\n",
    "response = client.chat.completions.create(\n",
    "    model=deployment,\n",
    "    messages=[\n",
    "        {\"role\": \"system\", \"content\": \"You are an assistant that analyzes the sentiment of text and provides a probability distribution for the sentiment categories: Positive, Neutral, and Negative. Ensure the output is formatted as: Positive: [value], Neutral: [value], Negative: [value]. Values should sum to 1.\"},\n",
    "        {\"role\": \"user\", \"content\": \"Not much to write about here, but it does exactly what it's supposed to. filters out the pop sounds. now my recordings are much more crisp. it is one of the lowest prices pop filters on amazon so might as well buy it, they honestly work the same despite their pricing.\"},\n",
    "    ],\n",
    "    temperature=0,\n",
    ")\n",
    "\n",
    "print(f\"{response.choices[0].message.role}: {response.choices[0].message.content}\")"
   ]
  },
  {
   "cell_type": "markdown",
   "metadata": {},
   "source": [
    "# ❓ Exercise 4 - E-Mail Summarization"
   ]
  },
  {
   "cell_type": "code",
   "execution_count": 52,
   "metadata": {},
   "outputs": [
    {
     "name": "stdout",
     "output_type": "stream",
     "text": [
      "assistant: **Resumen:**\n",
      "Carlos Rodríguez se pone en contacto con Juan Pérez para solicitar aclaraciones sobre el uso del correo electrónico, específicamente sobre la frase \"Use your own email...\" mencionada en un mensaje anterior. Carlos busca entender mejor el contexto y el propósito de esta solicitud.\n",
      "\n",
      "**Preguntas Abiertas:**\n",
      "1. ¿Cuál es el contexto detrás de la frase \"Use your own email...\"?\n",
      "2. ¿Qué se requiere exactamente en relación con el uso del correo electrónico?\n",
      "\n",
      "**Acciones a Realizar:**\n",
      "1. Juan Pérez debe responder a Carlos Rodríguez proporcionando más detalles sobre el uso del correo electrónico y el propósito de la solicitud.\n"
     ]
    }
   ],
   "source": [
    "# For all possible arguments see https://platform.openai.com/docs/api-reference/chat-completions/create\n",
    "response = client.chat.completions.create(\n",
    "    model=deployment,\n",
    "    messages=[\n",
    "        {\"role\": \"system\", \"content\": \"You are an assistant that helps organize emails by providing summaries, open questions, and action items. Based on the input provided, generate the corresponding summary, open questions, and action items.\"},\n",
    "        {\"role\": \"user\", \"content\": \"\"\"Asunto: Solicitud de aclaración sobre el uso del correo electrónico\n",
    "\n",
    "Estimado Juan Pérez,\n",
    "\n",
    "Espero que este mensaje te encuentre bien.\n",
    "\n",
    "Quería ponerme en contacto para aclarar algunos detalles sobre el uso del correo electrónico. En el mensaje anterior mencionaste la frase \"Use your own email...\", pero me gustaría comprender mejor el contexto y el propósito detrás de esta solicitud. ¿Podrías proporcionarme más detalles o explicarme con mayor precisión lo que se requiere en este caso?\n",
    "\n",
    "Agradezco de antemano tu ayuda. Quedo atento a tu respuesta.\n",
    "\n",
    "Saludos cordiales,\n",
    "Carlos Rodríguez\n",
    "Asistente de Soporte Técnico\"\"\"},\n",
    "    ],\n",
    "    temperature=0,\n",
    ")\n",
    "\n",
    "print(f\"{response.choices[0].message.role}: {response.choices[0].message.content}\")"
   ]
  },
  {
   "cell_type": "markdown",
   "metadata": {},
   "source": [
    "# ❓ Exercise 5 - Rewriting"
   ]
  },
  {
   "cell_type": "code",
   "execution_count": null,
   "metadata": {},
   "outputs": [
    {
     "name": "stdout",
     "output_type": "stream",
     "text": [
      "assistant: She was enjoying the sun, but then a huge cloud came and covered the sky.\n"
     ]
    }
   ],
   "source": [
    "response = client.chat.completions.create(\n",
    "    model=deployment,\n",
    "    messages=[\n",
    "        {\"role\": \"system\", \"content\": \"You are an assistant that rephrases sentences by changing the subject pronoun while keeping the rest of the sentence structure and meaning intact. For example, change 'I' to 'She' or 'He' as required.\"},\n",
    "        {\"role\": \"user\", \"content\": \"I was enjoying the sun, but then a huge cloud came and covered the sky.\"},\n",
    "    ],\n",
    "    temperature=0\n",
    ")\n",
    "\n",
    "print(f\"{response.choices[0].message.role}: {response.choices[0].message.content}\")"
   ]
  },
  {
   "cell_type": "markdown",
   "metadata": {},
   "source": [
    "# ❓ Exercise 6 - Multiple Tasks"
   ]
  },
  {
   "cell_type": "code",
   "execution_count": 41,
   "metadata": {},
   "outputs": [
    {
     "name": "stdout",
     "output_type": "stream",
     "text": [
      "assistant: {\n",
      "  \"translated\": \"Ich genoss die Sonne, aber dann kam eine riesige Wolke und bedeckte den Himmel.\",\n",
      "  \"negated\": \"I was not enjoying the sun, but then a huge cloud did not come and did not cover the sky.\",\n",
      "  \"third_person\": \"He was enjoying the sun, but then a huge cloud came and covered the sky.\"\n",
      "}\n"
     ]
    }
   ],
   "source": [
    "# For all possible arguments see https://platform.openai.com/docs/api-reference/chat-completions/create\n",
    "response = client.chat.completions.create(\n",
    "    model=deployment,\n",
    "    messages=[\n",
    "        {\"role\": \"system\", \"content\": \"You are an assistant that performs the following transformations on the input text: 1) Translate the text into German. 2) Negate the statement while maintaining the original structure. 3) Change the subject to third-person while keeping the rest of the sentence intact. Format the output as a JSON object with the keys 'translated', 'negated', and 'third_person'. Only translate to german first sentence\"},\n",
    "        {\"role\": \"user\", \"content\": \"I was enjoying the sun, but then a huge cloud came and covered the sky.\"},\n",
    "    ],\n",
    "    temperature=0,\n",
    ")\n",
    "\n",
    "print(f\"{response.choices[0].message.role}: {response.choices[0].message.content}\")"
   ]
  },
  {
   "cell_type": "markdown",
   "metadata": {},
   "source": [
    "# ❓ Exercise 7 - Data extraction to JSON"
   ]
  },
  {
   "cell_type": "code",
   "execution_count": 42,
   "metadata": {},
   "outputs": [
    {
     "name": "stdout",
     "output_type": "stream",
     "text": [
      "assistant: ```json\n",
      "{\n",
      "  \"reason\": \"Lost card\",\n",
      "  \"classified_reason\": \"lost_card\",\n",
      "  \"name\": \"Mateo Gomez\",\n",
      "  \"ssn\": \"123-45-6789\",\n",
      "  \"dob\": \"09/09/1989\"\n",
      "}\n",
      "```\n"
     ]
    }
   ],
   "source": [
    "# For all possible arguments see https://platform.openai.com/docs/api-reference/chat-completions/create\n",
    "response = client.chat.completions.create(\n",
    "    model=deployment,\n",
    "    messages=[\n",
    "        {\"role\": \"system\", \"content\": \"You are an assistant that extracts and classifies key information from a text. Given the input text, extract the following information: 1) The reason for the request (e.g., 'Lost card'). 2) A classified version of the reason (e.g., 'lost_card'). 3) Full name. 4) Social Security number. 5) Date of birth in the format MM/DD/YYYY. Return the results in a JSON format with the keys 'reason', 'classified_reason', 'name', 'ssn', and 'dob'.\"},\n",
    "        {\"role\": \"user\", \"content\": \"Hello, my name is Mateo Gomez. I lost my Credit card on August 17th, and I would like to request its cancellation. The last purchase I made was of a Chicken parmigiana dish at Contoso Restaurant, located near the Hollywood Museum, for $40. Below is my personal information for validation: Profession: Accountant Social Security number is 123-45-6789 Date of birth: 9-9-1989 Phone number: 949-555-0110 Personal address: 1234 Hollywood Boulevard Los Angeles CA Linked email account: mateo@contosorestaurant.com Swift code: CHASUS33XXX\"},\n",
    "    ],\n",
    "    temperature=0,\n",
    ")\n",
    "\n",
    "print(f\"{response.choices[0].message.role}: {response.choices[0].message.content}\")"
   ]
  },
  {
   "cell_type": "markdown",
   "metadata": {},
   "source": [
    "# ❓ Exercise 8 - Fashion product description"
   ]
  },
  {
   "cell_type": "code",
   "execution_count": 43,
   "metadata": {},
   "outputs": [
    {
     "name": "stdout",
     "output_type": "stream",
     "text": [
      "assistant: Embrace the cozy charm of winter with our stylish Cotton Sweater, designed exclusively for the trendsetting teenage girl. This must-have piece combines warmth and fashion, making it the perfect addition to your winter wardrobe. \n",
      "\n",
      "Crafted from soft, breathable cotton, this sweater offers a comfortable fit that keeps you snug during chilly days while allowing your skin to breathe. The versatile design features a chic silhouette that pairs effortlessly with your favorite jeans or layered over a cute dress for a casual yet stylish look.\n",
      "\n",
      "Available in a range of vibrant colors, this sweater is perfect for expressing your unique personality and style. Whether you're heading to school, hanging out with friends, or enjoying a cozy day at home, this sweater will keep you looking effortlessly fashionable.\n",
      "\n",
      "Stay warm, stay stylish, and make a statement this winter with our Cotton Sweater – the ultimate blend of comfort and chic for the modern teenage girl!\n"
     ]
    }
   ],
   "source": [
    "response = client.chat.completions.create(\n",
    "    model=deployment,\n",
    "    messages=[\n",
    "        {\"role\": \"system\", \"content\": \"You are a product description assistant. Based on the given input text, generate a compelling product description. Ensure that the description highlights the season, style, gender, target group, and material in a natural and appealing way. Use the input details to craft a description that captures the essence of the product, and make sure it is engaging for the target audience.\"},\n",
    "        {\"role\": \"user\", \"content\": \"Season: Winter\\nStyle: Sweater\\nGender: Female\\nTarget group: Teenager\\nMaterial: Cotton\"}\n",
    "    ],\n",
    "    temperature=0\n",
    ")\n",
    "\n",
    "print(f\"{response.choices[0].message.role}: {response.choices[0].message.content}\")"
   ]
  },
  {
   "cell_type": "markdown",
   "metadata": {},
   "source": [
    "# ❓ Exercise 9 - Write a Blog Post"
   ]
  },
  {
   "cell_type": "code",
   "execution_count": 44,
   "metadata": {},
   "outputs": [
    {
     "name": "stdout",
     "output_type": "stream",
     "text": [
      "assistant: **Title: The Beautiful Game: Why Football Captivates Hearts Worldwide**\n",
      "\n",
      "Football, known as soccer in some parts of the world, is more than just a sport; it’s a global phenomenon that unites people across cultures, languages, and backgrounds. With its rich history, passionate fanbase, and thrilling gameplay, football has earned its title as \"the beautiful game.\" In this blog post, we’ll explore the reasons behind football's immense popularity and its impact on society.\n",
      "\n",
      "### A Brief History of Football\n",
      "\n",
      "The origins of football can be traced back over 2,000 years to ancient civilizations in China, Greece, and Rome, where various forms of a ball game were played. However, the modern version of football began to take shape in the 19th century in England, where standardized rules were established. The formation of FIFA (Fédération Internationale de Football Association) in 1904 marked a significant milestone, leading to the first World Cup in 1930. Since then, football has evolved into the most-watched sport globally, with billions tuning in to major tournaments.\n",
      "\n",
      "### The Global Appeal\n",
      "\n",
      "One of the most compelling aspects of football is its accessibility. All you need is a ball and a bit of open space, making it easy for anyone to play, regardless of age, gender, or socioeconomic status. This simplicity has allowed football to flourish in diverse environments, from the streets of Rio de Janeiro to the fields of rural Africa.\n",
      "\n",
      "Moreover, the sport transcends language barriers. A shared love for football can spark friendships and foster connections among people from different backgrounds. Major tournaments like the FIFA World Cup and UEFA Champions League bring nations together, creating a sense of unity and pride.\n",
      "\n",
      "### The Thrill of the Game\n",
      "\n",
      "Football is a sport that combines strategy, skill, and athleticism, making it incredibly exciting to watch. The unpredictability of the game keeps fans on the edge of their seats, as a single moment can change the course of a match. Iconic players like Lionel Messi, Cristiano Ronaldo, and Pelé have become legends, showcasing extraordinary talent and inspiring millions.\n",
      "\n",
      "The atmosphere in stadiums during matches is electric, with fans passionately supporting their teams through chants, songs, and colorful displays. This sense of community and shared experience enhances the enjoyment of the game, making it a cherished pastime for many.\n",
      "\n",
      "### Football and Social Change\n",
      "\n",
      "Beyond the pitch, football has the power to drive social change. Numerous initiatives leverage the sport to address pressing issues such as poverty, education, and health. Organizations like Street Football World and the Football for Hope program use football as a tool for social development, empowering marginalized communities and promoting inclusivity.\n",
      "\n",
      "Additionally, football has become a platform for raising awareness about important social issues. Players and clubs often use their influence to advocate for equality, mental health awareness, and environmental sustainability, demonstrating that the sport can be a force for good.\n",
      "\n",
      "### The Future of Football\n",
      "\n",
      "As we look to the future, football continues to evolve with advancements in technology, such as VAR (Video Assistant Referee) and analytics, enhancing the game for players and fans alike. The rise of women’s football is also a significant development, with increasing visibility and support for female athletes, paving the way for a more inclusive sport.\n",
      "\n",
      "In conclusion, football is more than just a game; it’s a cultural phenomenon that brings people together, inspires change, and creates unforgettable moments. Whether you’re a die-hard fan or a casual observer, the magic of football is undeniable. So, grab your jersey, gather your friends, and immerse yourself in the beautiful game—because in football, every kick, every goal, and every cheer tells a story worth sharing.\n"
     ]
    }
   ],
   "source": [
    "# For all possible arguments see https://platform.openai.com/docs/api-reference/chat-completions/create\n",
    "response = client.chat.completions.create(\n",
    "    model=deployment,\n",
    "    messages=[\n",
    "        {\"role\": \"system\", \"content\": \"You are an assistant that Write a blog post\"},\n",
    "        {\"role\": \"user\", \"content\": \"Blog post about football\"},],\n",
    "    temperature=0,\n",
    ")\n",
    "\n",
    "print(f\"{response.choices[0].message.role}: {response.choices[0].message.content}\")"
   ]
  },
  {
   "cell_type": "markdown",
   "metadata": {},
   "source": [
    "# ❓ Exercise 10 - Call Center"
   ]
  },
  {
   "cell_type": "code",
   "execution_count": 48,
   "metadata": {},
   "outputs": [
    {
     "name": "stdout",
     "output_type": "stream",
     "text": [
      "assistant: ```json\n",
      "{\n",
      "  \"reason_for_call\": \"Lost package\",\n",
      "  \"resolution_status\": \"Pending investigation\",\n",
      "  \"summary\": \"Customer Carsten Mueller called to inquire about a package ordered 10 days ago that was supposed to arrive within 5 business days. The employee, Julia Schreider, was unable to provide the current status of the package and promised to investigate further and contact the customer.\",\n",
      "  \"customer_full_name\": \"Carsten Mueller\",\n",
      "  \"employee_full_name\": \"Julia Schreider\",\n",
      "  \"order_number\": \"ACZ456789\",\n",
      "  \"customer_contact_information\": \"+4911112223344\",\n",
      "  \"new_address_provided\": null,\n",
      "  \"initial_sentiment\": \"Frustrated\",\n",
      "  \"final_sentiment\": \"Neutral\",\n",
      "  \"initial_satisfaction_score\": 2,\n",
      "  \"final_satisfaction_score\": 3,\n",
      "  \"estimated_time_of_arrival\": null,\n",
      "  \"action_items\": [\n",
      "    \"Investigate package status\",\n",
      "    \"Contact customer with updates\"\n",
      "  ]\n",
      "}\n",
      "```\n"
     ]
    }
   ],
   "source": [
    "# For all possible arguments see https://platform.openai.com/docs/api-reference/chat-completions/create\n",
    "response = client.chat.completions.create(\n",
    "    model=deployment,\n",
    "    messages=[\n",
    "        {\"role\": \"system\", \"content\": \"You are a customer service assistant analyzing a call center conversation. Extract and classify relevant information from the conversation and return it in a structured JSON format with the following details: 1) The reason for the call (e.g., lost package). 2) The resolution status of the issue. 3) A brief summary of the call. 4) Customer's full name. 5) Employee's full name. 6) Order number. 7) Customer's contact information. 8) Any new address provided (if applicable). 9) Initial sentiment of the customer. 10) Final sentiment of the customer. 11) Initial and final satisfaction scores. 12) Estimated time of arrival (if applicable). 13) Action items (e.g., track package, contact customer, etc.).\"},\n",
    "        {\"role\": \"user\", \"content\": \"\"\"Employee: Hello, this is Julia Schreider from Contoso Company. How can I help you today?\n",
    "Customer: Hi, I am Carsten Mueller. I ordered a package 10 days ago, on February 10th, and it was supposed to arrive in maximum 5 business days. I have called three times already and nobody could provide any more information. I want to know where the package is and I want the problem to be solved immediately. This is the worst service I had for a long time!\n",
    "Employee: I apologize for the inconvenience, Mr. Mueller. I understand your frustration and I'm here to help. Can you please provide me with your order number so I can look into this for you?\n",
    "Customer: Yes, it's ACZ456789.\n",
    "Employee: Thank you. I'm looking into it now. Can you please hold for a few minutes while I check the status of your package?\n",
    "Customer: Okay.\n",
    "Employee: Thank you for your patience. I am sorry to inform you that I am unable to find the status of your package. It appears to have left the sending address, but no up-to-date status on the current location. I will further investigate your case and get back to you as soon as possible via phone call. Could you please provide me your contact information?\n",
    "Customer: Ah not again. Anyway, my phone number is +4911112223344.\n",
    "Employee: I apologize again for the inconvenience. Is there anything else I can help you with today?\n",
    "Customer: No.\n",
    "Employee: Thank you. Have a great day!\"\"\"\n",
    "        }\n",
    "    ],\n",
    "    temperature=0,\n",
    ")\n",
    "\n",
    "print(f\"{response.choices[0].message.role}: {response.choices[0].message.content}\")"
   ]
  },
  {
   "cell_type": "markdown",
   "metadata": {},
   "source": [
    "# ❓ Exercise 11 - Few-shot learning"
   ]
  },
  {
   "cell_type": "code",
   "execution_count": 49,
   "metadata": {},
   "outputs": [
    {
     "name": "stdout",
     "output_type": "stream",
     "text": [
      "assistant: ['Action', 'Adventure', 'Fantasy']\n"
     ]
    }
   ],
   "source": [
    "# For all possible arguments see https://platform.openai.com/docs/api-reference/chat-completions/create\n",
    "response = client.chat.completions.create(\n",
    "    model=deployment,\n",
    "    messages=[\n",
    "        {\"role\": \"system\", \"content\": \"You are a movie genre classifier. Based on the movie summary provided, you will classify the movie into appropriate genres from the list: Action, Adventure, Science Fiction, Fantasy, Drama, Family, Comedy, Romance, Thriller, Mystery, Horror.\"},\n",
    "        {\"role\": \"user\", \"content\": \"Paul Atreides, a brilliant and gifted young man born into a great destiny beyond his understanding, must travel to the most dangerous planet in the universe to ensure the future of his family and his people. As malevolent forces explode into conflict over the planet's exclusive supply of the most precious resource in existence-a commodity capable of unlocking humanity's greatest potential-only those who can conquer their fear will survive.\"},\n",
    "        {\"role\": \"assistant\", \"content\": \"['Action', 'Adventure', 'Science Fiction']\"},\n",
    "        {\"role\": \"user\", \"content\": \"A botched store robbery places Wonder Woman in a global battle against a powerful and mysterious ancient force that puts her powers in jeopardy.\"},\n",
    "        {\"role\": \"assistant\", \"content\": \"['Action', 'Adventure', 'Fantasy']\"},\n",
    "        {\"role\": \"user\", \"content\": \"After the devastating events of Avengers: Infinity War, the universe is in ruins due to the efforts of the Mad Titan, Thanos. With the help of remaining allies, the Avengers must assemble once more in order to undo Thanos' actions and restore order to the universe once and for all, no matter what consequences may be in store.\"},\n",
    "        {\"role\": \"assistant\", \"content\": \"['Adventure', 'Science Fiction', 'Action']\"},\n",
    "        {\"role\": \"user\", \"content\": \"A widowed new dad copes with doubts, fears, heartache and dirty diapers as he sets out to raise his daughter on his own. Inspired by a true story.\"},\n",
    "        {\"role\": \"assistant\", \"content\": \"['Drama', 'Family', 'Comedy']\"},\n",
    "        {\"role\": \"user\", \"content\": \"Harry, Ron and Hermione walk away from their last year at Hogwarts to find and destroy the remaining Horcruxes, putting an end to Voldemort's bid for immortality. But with Harry's beloved Dumbledore dead and Voldemort's unscrupulous Death Eaters on the loose, the world is more dangerous than ever.\"},\n",
    "        {\"role\": \"assistant\", \"content\": \"['Action', 'Adventure', 'Fantasy']\"}\n",
    "    ],\n",
    "    temperature=0,\n",
    ")\n",
    "\n",
    "print(f\"{response.choices[0].message.role}: {response.choices[0].message.content}\")"
   ]
  },
  {
   "cell_type": "markdown",
   "metadata": {},
   "source": [
    "# ❓ Exercise 12 - NL to SQL"
   ]
  },
  {
   "cell_type": "code",
   "execution_count": 50,
   "metadata": {},
   "outputs": [
    {
     "name": "stdout",
     "output_type": "stream",
     "text": [
      "assistant: To retrieve the top 10 orders along with the customer names, you can use a SQL query that joins the `orders` table with the `customer` table. Assuming \"top 10 orders\" refers to the most recent orders based on the `order_id`, you can use the following SQL query:\n",
      "\n",
      "```sql\n",
      "SELECT \n",
      "    c.firstname,\n",
      "    c.name,\n",
      "    o.order_id,\n",
      "    o.product_id,\n",
      "    o.product_amount\n",
      "FROM \n",
      "    orders o\n",
      "JOIN \n",
      "    customer c ON o.customer_id = c.customer_id\n",
      "ORDER BY \n",
      "    o.order_id DESC\n",
      "LIMIT 10;\n",
      "```\n",
      "\n",
      "This query does the following:\n",
      "- Selects the customer's first name and last name from the `customer` table, along with the order details from the `orders` table.\n",
      "- Joins the `orders` table with the `customer` table on the `customer_id`.\n",
      "- Orders the results by `order_id` in descending order to get the most recent orders.\n",
      "- Limits the results to the top 10 orders.\n"
     ]
    }
   ],
   "source": [
    "# For all possible arguments see https://platform.openai.com/docs/api-reference/chat-completions/create\n",
    "response = client.chat.completions.create(\n",
    "    model=deployment,\n",
    "    messages=[\n",
    "        {\"role\": \"system\", \"content\": \"You are a SQL expert. Based on the table information provided, you will generate the correct SQL query.\"},\n",
    "        {\"role\": \"user\", \"content\": \"Table: customer // Columns: firstname, name, customer_id, address\\nTable: orders // Columns: order_id, customer_id, product_id, product_amount\\nTable: products // Columns: product_id, price, name, description\\nGenerate a query that returns the top 10 orders and shows the customer name.\"},\n",
    "    ],\n",
    "    temperature=0,\n",
    ")\n",
    "\n",
    "print(f\"{response.choices[0].message.role}: {response.choices[0].message.content}\")"
   ]
  }
 ],
 "metadata": {
  "kernelspec": {
   "display_name": "Python 3",
   "language": "python",
   "name": "python3"
  },
  "language_info": {
   "codemirror_mode": {
    "name": "ipython",
    "version": 3
   },
   "file_extension": ".py",
   "mimetype": "text/x-python",
   "name": "python",
   "nbconvert_exporter": "python",
   "pygments_lexer": "ipython3",
   "version": "3.12.4"
  }
 },
 "nbformat": 4,
 "nbformat_minor": 2
}
