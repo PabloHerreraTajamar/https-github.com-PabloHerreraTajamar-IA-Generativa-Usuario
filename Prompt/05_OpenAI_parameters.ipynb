{
 "cells": [
  {
   "cell_type": "markdown",
   "metadata": {},
   "source": [
    "# OpenAI Parameters"
   ]
  },
  {
   "cell_type": "markdown",
   "metadata": {},
   "source": [
    "# Overview\n",
    "When making requests to OpenAI models, several parameters can be used to control the behavior and output of the model. \\\n",
    "Understanding these parameters helps in fine-tuning the responses to meet specific requirements, whether for generating text, answering questions, or any other use case.\n",
    "\n",
    "For more detailed examples, refer to the official documentation [Azure OpenAI Service](https://learn.microsoft.com/en-us/azure/ai-services/openai/reference)\n"
   ]
  },
  {
   "cell_type": "code",
   "execution_count": 2,
   "metadata": {},
   "outputs": [
    {
     "name": "stdout",
     "output_type": "stream",
     "text": [
      "Collecting requests\n",
      "  Using cached requests-2.32.3-py3-none-any.whl.metadata (4.6 kB)\n",
      "Collecting charset-normalizer<4,>=2 (from requests)\n",
      "  Using cached charset_normalizer-3.4.1-cp312-cp312-win_amd64.whl.metadata (36 kB)\n",
      "Requirement already satisfied: idna<4,>=2.5 in c:\\users\\alumno_ai\\appdata\\local\\programs\\python\\python312\\lib\\site-packages (from requests) (3.10)\n",
      "Collecting urllib3<3,>=1.21.1 (from requests)\n",
      "  Using cached urllib3-2.3.0-py3-none-any.whl.metadata (6.5 kB)\n",
      "Requirement already satisfied: certifi>=2017.4.17 in c:\\users\\alumno_ai\\appdata\\local\\programs\\python\\python312\\lib\\site-packages (from requests) (2024.12.14)\n",
      "Using cached requests-2.32.3-py3-none-any.whl (64 kB)\n",
      "Using cached charset_normalizer-3.4.1-cp312-cp312-win_amd64.whl (102 kB)\n",
      "Using cached urllib3-2.3.0-py3-none-any.whl (128 kB)\n",
      "Installing collected packages: urllib3, charset-normalizer, requests\n",
      "Successfully installed charset-normalizer-3.4.1 requests-2.32.3 urllib3-2.3.0\n",
      "Note: you may need to restart the kernel to use updated packages.\n"
     ]
    },
    {
     "name": "stderr",
     "output_type": "stream",
     "text": [
      "\n",
      "[notice] A new release of pip is available: 24.0 -> 24.3.1\n",
      "[notice] To update, run: python.exe -m pip install --upgrade pip\n"
     ]
    }
   ],
   "source": [
    "pip install requests"
   ]
  },
  {
   "cell_type": "code",
   "execution_count": 4,
   "metadata": {},
   "outputs": [
    {
     "name": "stdout",
     "output_type": "stream",
     "text": [
      "Collecting tiktoken\n",
      "  Using cached tiktoken-0.8.0-cp312-cp312-win_amd64.whl.metadata (6.8 kB)\n",
      "Collecting regex>=2022.1.18 (from tiktoken)\n",
      "  Using cached regex-2024.11.6-cp312-cp312-win_amd64.whl.metadata (41 kB)\n",
      "Requirement already satisfied: requests>=2.26.0 in c:\\users\\alumno_ai\\appdata\\local\\programs\\python\\python312\\lib\\site-packages (from tiktoken) (2.32.3)\n",
      "Requirement already satisfied: charset-normalizer<4,>=2 in c:\\users\\alumno_ai\\appdata\\local\\programs\\python\\python312\\lib\\site-packages (from requests>=2.26.0->tiktoken) (3.4.1)\n",
      "Requirement already satisfied: idna<4,>=2.5 in c:\\users\\alumno_ai\\appdata\\local\\programs\\python\\python312\\lib\\site-packages (from requests>=2.26.0->tiktoken) (3.10)\n",
      "Requirement already satisfied: urllib3<3,>=1.21.1 in c:\\users\\alumno_ai\\appdata\\local\\programs\\python\\python312\\lib\\site-packages (from requests>=2.26.0->tiktoken) (2.3.0)\n",
      "Requirement already satisfied: certifi>=2017.4.17 in c:\\users\\alumno_ai\\appdata\\local\\programs\\python\\python312\\lib\\site-packages (from requests>=2.26.0->tiktoken) (2024.12.14)\n",
      "Using cached tiktoken-0.8.0-cp312-cp312-win_amd64.whl (883 kB)\n",
      "Using cached regex-2024.11.6-cp312-cp312-win_amd64.whl (273 kB)\n",
      "Installing collected packages: regex, tiktoken\n",
      "Successfully installed regex-2024.11.6 tiktoken-0.8.0\n",
      "Note: you may need to restart the kernel to use updated packages.\n"
     ]
    },
    {
     "name": "stderr",
     "output_type": "stream",
     "text": [
      "\n",
      "[notice] A new release of pip is available: 24.0 -> 24.3.1\n",
      "[notice] To update, run: python.exe -m pip install --upgrade pip\n"
     ]
    }
   ],
   "source": [
    "pip install tiktoken"
   ]
  },
  {
   "cell_type": "code",
   "execution_count": 5,
   "metadata": {},
   "outputs": [],
   "source": [
    "import re\n",
    "import requests\n",
    "import sys\n",
    "import os\n",
    "from openai import AzureOpenAI\n",
    "import tiktoken\n",
    "from dotenv import load_dotenv\n",
    "load_dotenv()\n",
    "\n",
    "\n",
    "client = AzureOpenAI(\n",
    "        azure_endpoint=os.getenv(\"AZURE_OPENAI_ENDPOINT\"),\n",
    "        api_key=os.getenv(\"AZURE_OPENAI_API_KEY\"),\n",
    "        api_version=\"2024-02-01\"\n",
    "    )\n",
    "\n",
    "CHAT_COMPLETIONS_MODEL = \"gpt-4o-mini\"\n",
    "SEED = 123"
   ]
  },
  {
   "cell_type": "markdown",
   "metadata": {},
   "source": [
    "# Parameter: max_tokens\n",
    "**Description**: The maximum number of tokens to generate in the completion. \\\n",
    "**Default**: 16 \\\n",
    "**Example**: max_tokens=50\n",
    "\n",
    "The token count of your prompt plus max_tokens can't exceed the model's context length. \\\n",
    "Most models have a context length of 2048 tokens (except for the newest models, which support 4096). Please refer to documentation."
   ]
  },
  {
   "cell_type": "code",
   "execution_count": 17,
   "metadata": {},
   "outputs": [
    {
     "name": "stdout",
     "output_type": "stream",
     "text": [
      "Max Tokens: 16\n",
      "\n",
      "The best pet varies from person to person, as it depends on individual preferences,\n",
      "\n",
      "--------------------------------------------------------------------------------\n",
      "\n",
      "Max Tokens: 32\n",
      "\n",
      "The best pet can vary greatly depending on individual preferences, lifestyles, and living situations. Here are a few popular pets and what makes them great:\n",
      "\n",
      "1. **\n",
      "\n",
      "--------------------------------------------------------------------------------\n",
      "\n",
      "Max Tokens: 60\n",
      "\n",
      "The best pet varies depending on individual preferences, lifestyles, and living situations. Some people may find that dogs are the best pets because they are loyal, affectionate, and great companions. Others might prefer cats for their independence and playful nature. \n",
      "\n",
      "Small pets like rabbits, hamsters, or guinea pigs can\n",
      "\n",
      "--------------------------------------------------------------------------------\n",
      "\n",
      "Max Tokens: 100\n",
      "\n",
      "The best pet is often subjective and varies from person to person based on individual preferences, lifestyle, and living situation. Some people may argue that dogs are the best pets due to their loyalty, companionship, and ability to bond with humans. Others might prefer cats for their independence and low maintenance. \n",
      "\n",
      "Additionally, some individuals might enjoy small mammals like rabbits or guinea pigs, while others may find reptiles or birds to be the perfect fit. Ultimately, the best pet is one that matches your lifestyle, needs,\n",
      "\n",
      "--------------------------------------------------------------------------------\n",
      "\n"
     ]
    }
   ],
   "source": [
    "def call_openai_with_max_tokens(max_tokens):\n",
    "    response = client.chat.completions.create(\n",
    "          model=\"gpt-4o-mini\",\n",
    "          messages = [{\"role\":\"system\", \"content\":\"You are a helpful assistant.\"},\n",
    "                    {\"role\":\"user\",\"content\": \"The best pet is a\"}],\n",
    "                    max_tokens=max_tokens\n",
    "    )\n",
    "    return response.choices[0].message.content\n",
    "\n",
    "# Generate with different presence_penalty values\n",
    "penalties = [16, 32, 60, 100]\n",
    "for penalty in penalties:\n",
    "    print(f\"Max Tokens: {penalty}\\n\")\n",
    "    print(call_openai_with_max_tokens(penalty))\n",
    "    print(\"\\n\" + \"-\"*80 + \"\\n\")"
   ]
  },
  {
   "attachments": {},
   "cell_type": "markdown",
   "metadata": {},
   "source": [
    "# Parameter: temperature\n",
    "\n",
    "**Description**: Controls the randomness of the output. Lower values make the output more deterministic, while higher values increase randomness. \\\n",
    "**Value Range**: 0 to 1 \\\n",
    "**Default Value**: 1 \\\n",
    "**Example**: temperature=0.7\n",
    "\n",
    "Higher values means the model will take more risks. \\\n",
    "Try 0.9 for more creative applications, and 0 (argmax sampling) for ones with a well-defined answer.\n",
    "\n",
    "---\n",
    "**NOTE**: We generally recommend altering this or top_p but not both.\n"
   ]
  },
  {
   "cell_type": "code",
   "execution_count": 26,
   "metadata": {},
   "outputs": [],
   "source": [
    "def call_openai(num_times, prompt, temperature=0.75, use_seed=False):\n",
    "    for i in range(num_times):\n",
    "        if use_seed:\n",
    "            response = client.chat.completions.create(\n",
    "                model= \"gpt-4o-mini\",\n",
    "                messages = [{\"role\":\"system\", \"content\":\"You are a helpful assistant.\"},\n",
    "                    {\"role\":\"user\",\"content\": \"The best pet is a\"}],\n",
    "                    max_tokens=60,\n",
    "                    seed=SEED,\n",
    "                    temperature = 0.7\n",
    "            )\n",
    "        else:\n",
    "            response = client.chat.completions.create(\n",
    "                model= \"gpt-4o-mini\",\n",
    "                messages = [{\"role\":\"system\", \"content\":\"You are a helpful assistant.\"},\n",
    "                    {\"role\":\"user\",\"content\": \"The best pet is a\"}],\n",
    "                    max_tokens=60,\n",
    "                    temperature = 0.3\n",
    "            )\n",
    "        print(response.choices[0].message.content)"
   ]
  },
  {
   "cell_type": "code",
   "execution_count": 27,
   "metadata": {},
   "outputs": [
    {
     "name": "stdout",
     "output_type": "stream",
     "text": [
      "The best pet can vary greatly depending on individual preferences, lifestyles, and living situations. Here are a few popular options:\n",
      "\n",
      "1. **Dogs**: Known for their loyalty and companionship, dogs are often considered \"man's best friend.\" They require regular exercise and social interaction.\n",
      "\n",
      "2. **Cats**:\n",
      "The best pet can vary greatly depending on individual preferences, lifestyles, and living situations. Some popular options include:\n",
      "\n",
      "1. **Dogs**: Known for their loyalty and companionship, dogs are often considered \"man's best friend.\" They require regular exercise and social interaction.\n",
      "\n",
      "2. **Cats**: Cats are\n",
      "The best pet is subjective and depends on individual preferences, lifestyles, and needs. Some people might argue that dogs are the best pets due to their loyalty and companionship. Others might prefer cats for their independence and low maintenance. Small animals like hamsters or rabbits can be great for those with limited space,\n",
      "The best pet can vary greatly depending on individual preferences, lifestyles, and living situations. Some popular options include:\n",
      "\n",
      "1. **Dogs**: Known for their loyalty and companionship, dogs are great for active individuals or families. They require regular exercise and social interaction.\n",
      "\n",
      "2. **Cats**: Cats are\n",
      "The best pet can vary greatly depending on individual preferences, lifestyles, and living situations. Here are a few popular options:\n",
      "\n",
      "1. **Dogs**: Known for their loyalty and companionship, dogs are great for active individuals or families. They require regular exercise and social interaction.\n",
      "\n",
      "2. **Cats**:\n",
      "The best pet can vary greatly depending on individual preferences, lifestyles, and living situations. Here are a few popular options:\n",
      "\n",
      "1. **Dogs**: Known for their loyalty and companionship, dogs are often considered \"man's best friend.\" They require regular exercise and social interaction.\n",
      "\n",
      "2. **Cats**:\n",
      "The best pet can vary greatly depending on individual preferences, lifestyles, and living situations. Here are a few popular options:\n",
      "\n",
      "1. **Dogs**: Known for their loyalty and companionship, dogs are often considered \"man's best friend.\" They require regular exercise and social interaction.\n",
      "\n",
      "2. **Cats**:\n",
      "The best pet can vary greatly depending on individual preferences, lifestyles, and living situations. Some popular options include:\n",
      "\n",
      "1. **Dogs**: Known for their loyalty and companionship, dogs are often considered \"man's best friend.\" They require regular exercise and social interaction.\n",
      "\n",
      "2. **Cats**: Cats are\n",
      "The best pet can vary greatly depending on individual preferences, lifestyles, and living situations. Here are a few popular options:\n",
      "\n",
      "1. **Dogs**: Known for their loyalty and companionship, dogs can be great for active individuals or families. They require regular exercise and social interaction.\n",
      "\n",
      "2. **Cats**\n",
      "The best pet can vary greatly depending on individual preferences, lifestyles, and living situations. Here are a few popular options:\n",
      "\n",
      "1. **Dogs**: Known for their loyalty and companionship, dogs are often considered \"man's best friend.\" They require regular exercise and social interaction.\n",
      "\n",
      "2. **Cats**:\n"
     ]
    }
   ],
   "source": [
    "# Without seed and temperature, the response is different each time\n",
    "call_openai(10, 'The best pet is a ')"
   ]
  },
  {
   "cell_type": "code",
   "execution_count": 28,
   "metadata": {},
   "outputs": [
    {
     "name": "stdout",
     "output_type": "stream",
     "text": [
      "The best pet can vary greatly depending on individual preferences, lifestyles, and living situations. Here are some popular options:\n",
      "\n",
      "1. **Dogs**: Known for their loyalty and companionship, dogs are great for active individuals or families. They require regular exercise, training, and social interaction.\n",
      "\n",
      "2. **Cats\n",
      "The best pet can vary greatly depending on personal preferences, lifestyles, and living situations. Here are some popular options:\n",
      "\n",
      "1. **Dogs**: Known for their loyalty and companionship, dogs are great for active individuals or families. They require regular exercise, training, and social interaction.\n",
      "\n",
      "2. **Cats\n",
      "The best pet can vary greatly depending on personal preferences, lifestyles, and living situations. Here are some popular options:\n",
      "\n",
      "1. **Dogs**: Known for their loyalty and companionship, dogs are great for active individuals or families. They require regular exercise, training, and social interaction.\n",
      "\n",
      "2. **Cats\n",
      "The best pet can vary greatly depending on personal preferences, lifestyles, and living situations. Here are some popular options:\n",
      "\n",
      "1. **Dogs**: Known for their loyalty and companionship, dogs are great for active individuals or families. They require regular exercise, training, and social interaction.\n",
      "\n",
      "2. **Cats\n",
      "The best pet can vary greatly depending on personal preferences, lifestyles, and living situations. Here are some popular options:\n",
      "\n",
      "1. **Dogs**: Known for their loyalty and companionship, dogs are great for active individuals or families. They require regular exercise, training, and social interaction.\n",
      "\n",
      "2. **Cats\n",
      "The best pet can vary greatly depending on personal preferences, lifestyles, and living situations. Here are some popular options:\n",
      "\n",
      "1. **Dogs**: Known for their loyalty and companionship, dogs are great for active individuals or families. They require regular exercise, training, and social interaction.\n",
      "\n",
      "2. **Cats\n",
      "The best pet can vary greatly depending on personal preferences, lifestyles, and living situations. Here are some popular options:\n",
      "\n",
      "1. **Dogs**: Known for their loyalty and companionship, dogs are great for active individuals or families. They require regular exercise, training, and social interaction.\n",
      "\n",
      "2. **Cats\n",
      "The best pet can vary greatly depending on personal preferences, lifestyles, and living situations. Here are some popular options:\n",
      "\n",
      "1. **Dogs**: Known for their loyalty and companionship, dogs are great for active individuals or families. They require regular exercise, training, and social interaction.\n",
      "\n",
      "2. **Cats\n",
      "The best pet can vary greatly depending on personal preferences, lifestyles, and living situations. Here are some popular options:\n",
      "\n",
      "1. **Dogs**: Known for their loyalty and companionship, dogs are great for active individuals or families. They require regular exercise, training, and social interaction.\n",
      "\n",
      "2. **Cats\n",
      "The best pet can vary greatly depending on personal preferences, lifestyles, and living situations. Here are some popular options:\n",
      "\n",
      "1. **Dogs**: Known for their loyalty and companionship, dogs are great for active individuals or families. They require regular exercise, training, and social interaction.\n",
      "\n",
      "2. **Cats\n"
     ]
    }
   ],
   "source": [
    "# Now using a seed and 0 temperature, the response is the much more consisitent\n",
    "call_openai(10, 'The best pet is a ', temperature = 0, use_seed=True)"
   ]
  },
  {
   "attachments": {},
   "cell_type": "markdown",
   "metadata": {},
   "source": [
    "# Parameter: n\n",
    "**Description**: Specifies the number of completions to generate for each prompt. \\\n",
    "**Default Value**: 1 \\\n",
    "**Example**: n = 3 \n",
    "\n",
    "---\n",
    "**Note**: Because this parameter generates many completions, it can quickly consume your token quota. Use carefully and ensure that you have reasonable settings for max_tokens and stop."
   ]
  },
  {
   "cell_type": "code",
   "execution_count": 10,
   "metadata": {},
   "outputs": [
    {
     "name": "stdout",
     "output_type": "stream",
     "text": [
      "0 The best pet can vary greatly depending on personal preferences, lifestyles, and living situations. Here are some popular options:\n",
      "\n",
      "1. **Dogs**: Known for their loyalty and companionship, dogs are great for active individuals or families. They require regular exercise, training, and social interaction.\n",
      "\n",
      "2. **Cats\n"
     ]
    }
   ],
   "source": [
    "response = client.chat.completions.create(\n",
    "                model= \"gpt-4o-mini\",\n",
    "                messages = [{\"role\":\"system\", \"content\":\"You are a helpful assistant.\"},\n",
    "                    {\"role\":\"user\",\"content\": \"The best pet is a\"}],\n",
    "                    max_tokens=60,\n",
    "                    seed=SEED,\n",
    "                    temperature = 0.7\n",
    "            )\n",
    "\n",
    "for index, c in enumerate(response.choices):\n",
    "    print(index, c.message.content)"
   ]
  },
  {
   "attachments": {},
   "cell_type": "markdown",
   "metadata": {},
   "source": [
    "# Parameter: presence_penalty\n",
    "**Description**: Penalizes new tokens based on whether they appear in the text so far, encouraging the model to use new tokens. \\\n",
    "**Value Range**: -2.0 to 2.0 \\\n",
    "**Default Value**: 0 \\\n",
    "**Example**: presence_penalty=0.5"
   ]
  },
  {
   "cell_type": "code",
   "execution_count": 18,
   "metadata": {},
   "outputs": [
    {
     "name": "stdout",
     "output_type": "stream",
     "text": [
      "Presence Penalty: 0\n",
      "\n",
      "The best pet is often subjective and depends on individual preferences, lifestyles, and living situations. Here are a few popular options and what makes them great:\n",
      "\n",
      "1. **Dogs**: Known for their loyalty and companionship, dogs can be great for active individuals or families. They require regular exercise and social interaction\n",
      "\n",
      "--------------------------------------------------------------------------------\n",
      "\n",
      "Presence Penalty: 0.5\n",
      "\n",
      "The best pet is subjective and can vary depending on individual preferences, lifestyle, and living situation. Here are a few popular options:\n",
      "\n",
      "1. **Dogs** - Known for their loyalty and companionship, dogs can be great for active individuals or families.\n",
      "\n",
      "2. **Cats** - More independent than dogs,\n",
      "\n",
      "--------------------------------------------------------------------------------\n",
      "\n",
      "Presence Penalty: 1.0\n",
      "\n",
      "The best pet can vary greatly depending on individual preferences, lifestyles, and living situations. Here are some popular options:\n",
      "\n",
      "1. **Dogs** - Known for their loyalty and companionship, dogs are often considered \"man's best friend.\" They require regular exercise, training, and social interaction.\n",
      "\n",
      "2. **Cats\n",
      "\n",
      "--------------------------------------------------------------------------------\n",
      "\n",
      "Presence Penalty: 1.5\n",
      "\n",
      "The best pet varies from person to person, as it largely depends on individual preferences, lifestyle, and living situation. Here are a few popular options:\n",
      "\n",
      "1. **Dogs**: Known for their loyalty and companionship, dogs are great for active individuals or families. They require regular exercise and training.\n",
      "\n",
      "2\n",
      "\n",
      "--------------------------------------------------------------------------------\n",
      "\n",
      "Presence Penalty: 2.0\n",
      "\n",
      "The best pet can vary greatly depending on individual preferences, lifestyles, and needs. Some popular choices include:\n",
      "\n",
      "1. **Dogs** - Known for their loyalty and companionship, dogs can be great for active individuals or families.\n",
      "2. **Cats** - Generally more independent, cats can be perfect for those\n",
      "\n",
      "--------------------------------------------------------------------------------\n",
      "\n"
     ]
    }
   ],
   "source": [
    "def call_openai_with_presence_penalty(presence_penalty):\n",
    "    response = client.chat.completions.create(\n",
    "          model=CHAT_COMPLETIONS_MODEL,\n",
    "          messages = [{\"role\":\"system\", \"content\":\"You are a helpful assistant.\"},\n",
    "                    {\"role\":\"user\",\"content\": \"The best pet is a\"}],\n",
    "                    max_tokens=60,\n",
    "                    presence_penalty= 0.5\n",
    "    )\n",
    "    return response.choices[0].message.content\n",
    "\n",
    "# Generate with different presence_penalty values\n",
    "penalties = [0, 0.5, 1.0, 1.5, 2.0]\n",
    "for penalty in penalties:\n",
    "    print(f\"Presence Penalty: {penalty}\\n\")\n",
    "    print(call_openai_with_presence_penalty(penalty))\n",
    "    print(\"\\n\" + \"-\"*80 + \"\\n\")"
   ]
  },
  {
   "cell_type": "markdown",
   "metadata": {},
   "source": [
    "# Parameter: frequency_penalty\n",
    "**Description**: Penalizes new tokens based on their existing frequency in the text so far, reducing the likelihood of repeating the same line verbatim. \\\n",
    "**Value Range**: -2.0 to 2.0 \\\n",
    "**Default Value**: 0 \\\n",
    "**Example**: frequency_penalty=0.5"
   ]
  },
  {
   "cell_type": "markdown",
   "metadata": {},
   "source": [
    "#### Use cases to explore\n",
    "1. **Compare Responses** \\\n",
    "Generate multiple completions to compare and choose the best response for your use case.\n",
    "\n",
    "2. **Increase Diversity** \\\n",
    "Use multiple completions to get a variety of responses, which is useful in creative applications.\n",
    "\n",
    "3. **Enhance Robustness** \\\n",
    "Generate multiple responses to ensure consistency and accuracy across different completions.\n",
    "\n",
    "#### Best Practices\n",
    "1. **Optimize Prompt Length** \\\n",
    "Keep your prompts concise but informative to ensure the model has enough context.\n",
    "\n",
    "2. **Adjust Temperature and Top_p** \\\n",
    "Use these parameters to balance between deterministic and creative responses.\n",
    "\n",
    "3. **Monitor Token Usage** \\\n",
    "Be mindful of the max_tokens parameter to manage costs and response length.\n",
    "\n",
    "4. **Use Stopping Sequences** \\\n",
    "Define stopping sequences to control where the model should stop generating text, ensuring the output is within the desired context.\n",
    "\n",
    "5. **Generate Multiple Completions** \\\n",
    "Use the n parameter to generate multiple completions and select the best one for your needs."
   ]
  },
  {
   "cell_type": "markdown",
   "metadata": {},
   "source": [
    "## Exercise 1: Exploring 'top_p' Parameter\n",
    "### Description:\n",
    "- The 'top_p' parameter controls nucleus sampling. Lower values make the output more focused by limiting the pool of tokens.\n",
    "\n",
    "### Task:\n",
    "- Write a function that calls the model with different 'top_p' values and observe how the output changes.\n"
   ]
  },
  {
   "cell_type": "code",
   "execution_count": 19,
   "metadata": {},
   "outputs": [
    {
     "name": "stdout",
     "output_type": "stream",
     "text": [
      "Top P: 0.1\n",
      "\n",
      "Exercise offers a wide range of benefits for both physical and mental health. Here are some of the key advantages:\n",
      "\n",
      "### Physical Health Benefits:\n",
      "1. **Improved Cardiovascular Health**: Regular exercise strengthens the heart, improves circulation, and helps lower blood pressure and cholesterol levels.\n",
      "2. **Weight Management\n",
      "\n",
      "--------------------------------------------------------------------------------\n",
      "\n",
      "Top P: 0.3\n",
      "\n",
      "Exercise offers a wide range of benefits for both physical and mental health. Here are some of the key advantages:\n",
      "\n",
      "### Physical Health Benefits:\n",
      "1. **Improved Cardiovascular Health**: Regular exercise strengthens the heart, improves circulation, and helps lower blood pressure and cholesterol levels.\n",
      "2. **Weight Management\n",
      "\n",
      "--------------------------------------------------------------------------------\n",
      "\n",
      "Top P: 0.7\n",
      "\n",
      "Exercise offers a wide range of benefits for both physical and mental health. Here are some of the key advantages:\n",
      "\n",
      "### Physical Health Benefits:\n",
      "1. **Improved Cardiovascular Health**: Regular exercise strengthens the heart, improves circulation, and helps lower blood pressure and cholesterol levels.\n",
      "2. **Weight Management\n",
      "\n",
      "--------------------------------------------------------------------------------\n",
      "\n",
      "Top P: 1.0\n",
      "\n",
      "Exercise offers a wide range of benefits for both physical and mental health. Here are some of the key advantages:\n",
      "\n",
      "### Physical Health Benefits:\n",
      "1. **Improved Cardiovascular Health**: Regular exercise strengthens the heart, improves circulation, and helps lower blood pressure and cholesterol levels.\n",
      "2. **Weight Management\n",
      "\n",
      "--------------------------------------------------------------------------------\n",
      "\n"
     ]
    }
   ],
   "source": [
    "def call_openai_with_top_p(top_p):\n",
    "    response = client.chat.completions.create(\n",
    "          model= \"gpt-4o-mini\",\n",
    "          messages = [{\"role\":\"system\", \"content\":\"You are a helpful assistant.\"},\n",
    "                    {\"role\":\"user\",\"content\": \"Describe the benefits of exercise.\"}],\n",
    "                    max_tokens=60,\n",
    "                    top_p= 0.2\n",
    "    )\n",
    "    return response.choices[0].message.content\n",
    "\n",
    "# Try with different values of top_p\n",
    "top_p_values = [0.1, 0.3, 0.7, 1.0]\n",
    "for value in top_p_values:\n",
    "    print(f\"Top P: {value}\\n\")\n",
    "    print(call_openai_with_top_p(value))\n",
    "    print(\"\\n\" + \"-\"*80 + \"\\n\")\n"
   ]
  },
  {
   "cell_type": "markdown",
   "metadata": {},
   "source": [
    "## Exercise 2: Frequency Penalty Exploration\n",
    "### Description:\n",
    "- This exercise will explore how the 'frequency_penalty' parameter affects the model's tendency to repeat itself.\n",
    "\n",
    "### Task:\n",
    "- Generate completions using different frequency_penalty values and note the diversity in responses.\n",
    "\n"
   ]
  },
  {
   "cell_type": "code",
   "execution_count": 20,
   "metadata": {},
   "outputs": [
    {
     "name": "stdout",
     "output_type": "stream",
     "text": [
      "Frequency Penalty: -1.0\n",
      "\n",
      "A fun fact about space is that there are more stars in the universe than there are grains of sand on all the beaches on Earth! It's estimated that there are about 100 billion to 200 billion galaxies, each containing millions or even billions of stars, leading to an astonishing total that far exceeds the\n",
      "\n",
      "--------------------------------------------------------------------------------\n",
      "\n",
      "Frequency Penalty: 0.0\n",
      "\n",
      "Sure! One fun fact about space is that it is completely silent. Unlike on Earth, sound waves need a medium, like air or water, to travel through. Since space is a near-perfect vacuum, there are very few particles to carry sound. So if you were floating in space, you wouldn't\n",
      "\n",
      "--------------------------------------------------------------------------------\n",
      "\n",
      "Frequency Penalty: 1.0\n",
      "\n",
      "Sure! One fun fact about space is that a day on Venus lasts longer than a year on Venus. Venus has an extremely slow rotation on its axis, taking about 243 Earth days to complete one full rotation. However, it only takes about 225 Earth days to complete one orbit around the Sun\n",
      "\n",
      "--------------------------------------------------------------------------------\n",
      "\n",
      "Frequency Penalty: 2.0\n",
      "\n",
      "Sure! One fun fact about space is that there is a giant cloud of alcohol in space. Specifically, astronomers have found a massive cloud of ethyl alcohol, the same type of alcohol found in alcoholic beverages, floating in the region of space around the star-forming region G34.3.\n",
      "\n",
      "--------------------------------------------------------------------------------\n",
      "\n"
     ]
    }
   ],
   "source": [
    "def call_openai_with_frequency_penalty(frequency_penalty):\n",
    "    response = client.chat.completions.create(\n",
    "          model=CHAT_COMPLETIONS_MODEL,\n",
    "          messages = [{\"role\":\"system\", \"content\":\"You are a helpful assistant.\"},\n",
    "                    {\"role\":\"user\",\"content\": \"Tell me a fun fact about space.\"}],\n",
    "                    max_tokens=60,\n",
    "                    frequency_penalty=0.2\n",
    "    )\n",
    "    return response.choices[0].message.content\n",
    "\n",
    "penalties = [-1.0, 0.0, 1.0, 2.0]\n",
    "for penalty in penalties:\n",
    "    print(f\"Frequency Penalty: {penalty}\\n\")\n",
    "    print(call_openai_with_frequency_penalty(penalty))\n",
    "    print(\"\\n\" + \"-\"*80 + \"\\n\")\n"
   ]
  },
  {
   "cell_type": "markdown",
   "metadata": {},
   "source": [
    "## Exercise 3: Multi-Completion with 'n' Parameter\n",
    "### Description:\n",
    "- This exercise will help students generate multiple completions for the same prompt and compare the results.\n",
    "\n",
    "### Task:\n",
    "- Generate 3 completions for the same prompt by adjusting the 'n' parameter.\n"
   ]
  },
  {
   "cell_type": "code",
   "execution_count": 31,
   "metadata": {},
   "outputs": [
    {
     "name": "stdout",
     "output_type": "stream",
     "text": [
      "0 La pregunta de quién es el mejor jugador de baloncesto de la historia es muy subjetiva y a menudo genera debate entre aficionados y expertos. Algunos de los nombres más mencionados en esta conversación son:\n",
      "\n",
      "1. **Michael Jordan**: Considerado por muchos como el mejor de todos los tiempos, Jordan ganó seis campeonatos de la NBA con los Chicago Bulls y fue nombrado MVP de las Finales en todas esas ocasiones. \n",
      "\n",
      "2. **LeBron James**: Con una carrera destacada que continúa, LeBron ha sido comparado con Jordan debido a su versatilidad, habilidades y logros en la NBA, incluido múltiples campeonatos y premios MVP.\n",
      "\n",
      "3. **Kareem Abdul-Jabbar**: Es el máximo anotador en la historia de la NBA y ganó seis campeonatos, además de ser un hombre que revolucionó el juego con su famoso \"skyhook\".\n",
      "\n",
      "4. **Bill Russell**: Con 11 campeonatos de la NBA, Russell es conocido por su defensa y liderazgo, marcando una era en el baloncesto.\n",
      "\n",
      "5. **Magic Johnson y Larry Bird**: Ambos jugadores fueron icónicos en los años 80 y transformaron la NBA, popularizando el baloncesto en Estados Unidos y alrededor del mundo.\n",
      "\n",
      "Cada uno de estos jugadores tiene un legado único y ha dejado una huella importante en la historia del baloncesto. La respuesta puede variar según las preferencias personales y lo que cada aficionado valore más en un jugador. ¿Tienes un favorito en particular?\n",
      "1 El debate sobre quién es el mejor jugador de baloncesto de la historia es subjetivo y suele depender de las opiniones personales y las preferencias de los aficionados. Sin embargo, dos nombres que frecuentemente emergen en esta discusión son Michael Jordan y LeBron James.\n",
      "\n",
      "Michael Jordan, conocido por su habilidad, competitividad y éxito en la NBA, ganó seis campeonatos con los Chicago Bulls y fue nombrado MVP de las Finales en esas ocasiones. Su impacto en el deporte y la cultura popular también ha sido enorme.\n",
      "\n",
      "LeBron James, por otro lado, es conocido por su versatilidad, habilidades en diferentes posiciones y su longevidad en la liga. Ha ganado múltiples campeonatos y premios MVP, y ha sido un jugador clave en todas las franquicias en las que ha estado.\n",
      "\n",
      "Otros jugadores notables que a menudo se mencionan en esta conversación incluyen a Kareem Abdul-Jabbar, Magic Johnson, Larry Bird y Kobe Bryant. Al final, la respuesta puede variar dependiendo de a quién le preguntes.\n",
      "2 Determinar quién es el mejor jugador de baloncesto de la historia es un tema muy debatido y subjetivo, ya que depende de diferentes opiniones, preferencias y criterios. Sin embargo, hay algunos nombres que suelen aparecer con frecuencia en estas discusiones:\n",
      "\n",
      "1. **Michael Jordan**: Considerado por muchos como el mejor de todos los tiempos, Jordan ganó seis campeonatos de la NBA con los Chicago Bulls y es conocido por su habilidad anotadora, competitividad y legado global.\n",
      "\n",
      "2. **LeBron James**: Otro candidato para el título de mejor jugador, LeBron ha tenido un impacto enorme en la NBA y sigue añadiendo a su legado, con múltiples campeonatos y premios MVP.\n",
      "\n",
      "3. **Kareem Abdul-Jabbar**: Es el máximo anotador en la historia de la NBA y ganó seis títulos, además de ser reconocido por su distintivo tiro en gancho y longevidad en la liga.\n",
      "\n",
      "4. **Bill Russell**: Con 11 campeonatos de la NBA, Russell es famoso por su dominio defensivo y liderazgo en la cancha. Su legado también incluye el impacto en los derechos civiles.\n",
      "\n",
      "5. **Magic Johnson y Larry Bird**: Ambos revolucionaron el baloncesto en los años 80 y son considerados entre los mejores por sus habilidades, visión de juego y rivalidad.\n",
      "\n",
      "La elección del \"mejor\" jugador puede variar según aspectos como estadísticas, impacto en el juego y carácter o estilo de liderazgo. En última instancia, cada aficionado tiene su propio criterio y preferencias. ¿Tú quién consideras que es el mejor?\n"
     ]
    }
   ],
   "source": [
    "response = client.chat.completions.create(\n",
    "    model=\"gpt-4o-mini\",  \n",
    "    messages=[{\"role\": \"user\", \"content\": \"Quien es el mejor jugador de baloncesto de la historia\"}],\n",
    "    n=3\n",
    ")\n",
    "\n",
    "for index, c in enumerate(response.choices):\n",
    "    print(index, c.message.content)"
   ]
  },
  {
   "cell_type": "markdown",
   "metadata": {},
   "source": [
    "## Exercise 4: Temperature vs. Deterministic Output\n",
    "### Description:\n",
    "- Adjust the 'temperature' parameter to explore the balance between creative and deterministic responses.\n",
    "\n",
    "### Task:\n",
    "- Generate completions with different temperature values and analyze the variance in output.\n"
   ]
  },
  {
   "cell_type": "code",
   "execution_count": 23,
   "metadata": {},
   "outputs": [
    {
     "name": "stdout",
     "output_type": "stream",
     "text": [
      "Temperature: 0.0\n",
      "\n",
      "Sure! Here are some suggestions for a tech startup name:\n",
      "\n",
      "1. **InnovateX**\n",
      "2. **TechNest**\n",
      "3. **Nex\n",
      "\n",
      "--------------------------------------------------------------------------------\n",
      "\n",
      "Temperature: 0.3\n",
      "\n",
      "Here are several suggestions for a tech startup name:\n",
      "\n",
      "1. **Innovatech**\n",
      "2. **NexGen Solutions**\n",
      "3. **TechFusion\n",
      "\n",
      "--------------------------------------------------------------------------------\n",
      "\n",
      "Temperature: 0.7\n",
      "\n",
      "Sure! Here are several suggestions for a tech startup name:\n",
      "\n",
      "1. **InnovateX**\n",
      "2. **TechNest**\n",
      "3. **QuantumLeap\n",
      "\n",
      "--------------------------------------------------------------------------------\n",
      "\n",
      "Temperature: 1.0\n",
      "\n",
      "Sure! Here are a few suggestions for a tech startup name:\n",
      "\n",
      "1. **TechNexus**\n",
      "2. **InnoVate**\n",
      "3.\n",
      "\n",
      "--------------------------------------------------------------------------------\n",
      "\n"
     ]
    }
   ],
   "source": [
    "def call_openai_with_temperature(temperature):\n",
    "    response = client.chat.completions.create(\n",
    "          model=CHAT_COMPLETIONS_MODEL,\n",
    "          messages = [{\"role\":\"system\", \"content\":\"You are a helpful assistant.\"},\n",
    "                    {\"role\":\"user\",\"content\": \"Suggest a name for a new tech startup.\"}],\n",
    "                    max_tokens=30,\n",
    "                    temperature= 0.6\n",
    "    )\n",
    "    return response.choices[0].message.content\n",
    "\n",
    "temperatures = [0.0, 0.3, 0.7, 1.0]\n",
    "for temp in temperatures:\n",
    "    print(f\"Temperature: {temp}\\n\")\n",
    "    print(call_openai_with_temperature(temp))\n",
    "    print(\"\\n\" + \"-\"*80 + \"\\n\")"
   ]
  }
 ],
 "metadata": {
  "kernelspec": {
   "display_name": "Python 3",
   "language": "python",
   "name": "python3"
  },
  "language_info": {
   "codemirror_mode": {
    "name": "ipython",
    "version": 3
   },
   "file_extension": ".py",
   "mimetype": "text/x-python",
   "name": "python",
   "nbconvert_exporter": "python",
   "pygments_lexer": "ipython3",
   "version": "3.12.4"
  }
 },
 "nbformat": 4,
 "nbformat_minor": 4
}
